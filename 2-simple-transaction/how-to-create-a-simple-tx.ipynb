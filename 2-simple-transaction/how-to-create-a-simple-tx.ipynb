{
 "cells": [
  {
   "cell_type": "markdown",
   "metadata": {},
   "source": [
    "# How to create a simple transaction\n",
    "\n",
    "In this example we will create an submit a transaction to the testnet using the command build and build raw."
   ]
  },
  {
   "cell_type": "markdown",
   "metadata": {
    "tags": []
   },
   "source": [
    "## 1) Create a transaction using the command build\n",
    "\n",
    "Using the build command, the fees and the changes are automatically calculated.  \n",
    "The downside of using the build command is that you can't build the transaction off chain."
   ]
  },
  {
   "cell_type": "markdown",
   "metadata": {},
   "source": [
    "### Get utxo from the address of the sender"
   ]
  },
  {
   "cell_type": "code",
   "execution_count": 28,
   "metadata": {},
   "outputs": [
    {
     "name": "stdout",
     "output_type": "stream",
     "text": [
      "                           TxHash                                 TxIx        Amount\n",
      "--------------------------------------------------------------------------------------\n",
      "8d4f02739f9f921e7d50cd7765527242a1ca5bd37dc479a550af99463290d89f     0        9799666446 lovelace + TxOutDatumNone\n"
     ]
    }
   ],
   "source": [
    "%%bash\n",
    "# User 1 address\n",
    "addrUser1=$(cat /users/$(whoami)/testnet/priv/wallet/Djessy/djessy.addr)\n",
    "# Get the utxo from the user1 address\n",
    "cardano-cli query utxo --address $addrUser1 --testnet-magic 1"
   ]
  },
  {
   "cell_type": "markdown",
   "metadata": {},
   "source": [
    "### Build the transaction"
   ]
  },
  {
   "cell_type": "code",
   "execution_count": 30,
   "metadata": {},
   "outputs": [
    {
     "name": "stdout",
     "output_type": "stream",
     "text": [
      "Estimated transaction fee: Lovelace 166777\n"
     ]
    }
   ],
   "source": [
    "%%bash\n",
    "# UTXO = TXHash + # + TxIx\n",
    "UTXO_IN=8d4f02739f9f921e7d50cd7765527242a1ca5bd37dc479a550af99463290d89f#0\n",
    "SENDER_ADDR=$(cat /users/$(whoami)/testnet/priv/wallet/Djessy/djessy.addr)\n",
    "RECEIVER_ADDR=$(cat /users/$(whoami)/testnet/priv/wallet/Drake/drake.addr)\n",
    "# Amount of ADA to sent in lovelace (1 ADA = 1000000 de lovelace)\n",
    "OUTPUT=100000000 \n",
    "\n",
    "# Build the transaction\n",
    "cardano-cli transaction build \\\n",
    "--tx-in $UTXO_IN \\\n",
    "--tx-out $RECEIVER_ADDR+$OUTPUT \\\n",
    "--change-address $SENDER_ADDR \\\n",
    "--testnet-magic 1 \\\n",
    "--out-file tx-files/tx-one.raw\n",
    "\n",
    "# Sign the transaction\n",
    "cardano-cli transaction sign \\\n",
    "--signing-key-file /users/$(whoami)/testnet/priv/wallet/Djessy/djessy.skey \\\n",
    "--tx-body-file tx-files/tx-one.raw \\\n",
    "--out-file tx-files/tx-one.signed "
   ]
  },
  {
   "cell_type": "markdown",
   "metadata": {},
   "source": [
    "### Flowchart of the transaction"
   ]
  },
  {
   "cell_type": "code",
   "execution_count": 33,
   "metadata": {},
   "outputs": [
    {
     "data": {
      "image/svg+xml": [
       "<svg xmlns=\"http://www.w3.org/2000/svg\" xmlns:xlink=\"http://www.w3.org/1999/xlink\" width=\"645pt\" height=\"273pt\" viewBox=\"0.00 0.00 645.00 272.74\">\n",
       "<g id=\"graph0\" class=\"graph\" transform=\"scale(1 1) rotate(0) translate(4 268.74)\">\n",
       "<title>G</title>\n",
       "<polygon fill=\"white\" stroke=\"none\" points=\"-4,4 -4,-268.74 641,-268.74 641,4 -4,4\"/>\n",
       "<!-- UTXO_IN_1 \\n 8d4f027...0d89f#0 -->\n",
       "<g id=\"node1\" class=\"node\">\n",
       "<title>UTXO_IN_1 \\n 8d4f027...0d89f#0</title>\n",
       "<polygon fill=\"none\" stroke=\"black\" points=\"361,-264.74 239,-264.74 239,-226.74 361,-226.74 361,-264.74\"/>\n",
       "<text text-anchor=\"middle\" x=\"300\" y=\"-249.54\" font-family=\"Times,serif\" font-size=\"14.00\">UTXO_IN_1 </text>\n",
       "<text text-anchor=\"middle\" x=\"300\" y=\"-234.54\" font-family=\"Times,serif\" font-size=\"14.00\"> 8d4f027...0d89f#0</text>\n",
       "</g>\n",
       "<!-- TRANSACTION \n",
       " \n",
       " • Network: Testnet \n",
       " &#160;• UTXO amount: 9799.666446 ₳ None \n",
       "\n",
       " -->\n",
       "<g id=\"node5\" class=\"node\">\n",
       "<title>TRANSACTION \n",
       " \n",
       " • Network: Testnet \n",
       "  • UTXO amount: 9799.666446 ₳ None \n",
       "\n",
       "</title>\n",
       "<polygon fill=\"none\" stroke=\"black\" points=\"422.5,-189.24 181.5,-189.24 177.5,-185.24 177.5,-105.24 418.5,-105.24 422.5,-109.24 422.5,-189.24\"/>\n",
       "<polyline fill=\"none\" stroke=\"black\" points=\"418.5,-185.24 177.5,-185.24\"/>\n",
       "<polyline fill=\"none\" stroke=\"black\" points=\"418.5,-185.24 418.5,-105.24\"/>\n",
       "<polyline fill=\"none\" stroke=\"black\" points=\"418.5,-185.24 422.5,-189.24\"/>\n",
       "<text text-anchor=\"middle\" x=\"300\" y=\"-174.04\" font-family=\"Times,serif\" font-size=\"14.00\">TRANSACTION </text>\n",
       "<text text-anchor=\"middle\" x=\"300\" y=\"-159.04\" font-family=\"Times,serif\" font-size=\"14.00\"> </text>\n",
       "<text text-anchor=\"middle\" x=\"300\" y=\"-144.04\" font-family=\"Times,serif\" font-size=\"14.00\"> • Network: Testnet </text>\n",
       "<text text-anchor=\"middle\" x=\"300\" y=\"-129.04\" font-family=\"Times,serif\" font-size=\"14.00\">  • UTXO amount: 9799.666446 ₳ None </text>\n",
       "</g>\n",
       "<!-- UTXO_IN_1 \\n 8d4f027...0d89f#0&#45;&gt;TRANSACTION \n",
       " \n",
       " • Network: Testnet \n",
       " &#160;• UTXO amount: 9799.666446 ₳ None \n",
       "\n",
       " -->\n",
       "<g id=\"edge1\" class=\"edge\">\n",
       "<title>UTXO_IN_1 \\n 8d4f027...0d89f#0-&gt;TRANSACTION \n",
       " \n",
       " • Network: Testnet \n",
       "  • UTXO amount: 9799.666446 ₳ None \n",
       "\n",
       "</title>\n",
       "<path fill=\"none\" stroke=\"black\" d=\"M300,-226.59C300,-218.81 300,-209.29 300,-199.6\"/>\n",
       "<polygon fill=\"black\" stroke=\"black\" points=\"303.5,-199.51 300,-189.51 296.5,-199.51 303.5,-199.51\"/>\n",
       "</g>\n",
       "<!-- ADDR_1 \\n 60484a3a1867...ca00170b3f36 -->\n",
       "<g id=\"node2\" class=\"node\">\n",
       "<title>ADDR_1 \\n 60484a3a1867...ca00170b3f36</title>\n",
       "<text text-anchor=\"middle\" x=\"94\" y=\"-30.67\" font-family=\"Times,serif\" font-size=\"14.00\">ADDR_1 </text>\n",
       "<text text-anchor=\"middle\" x=\"94\" y=\"-15.67\" font-family=\"Times,serif\" font-size=\"14.00\"> 60484a3a1867...ca00170b3f36</text>\n",
       "</g>\n",
       "<!-- ADDR_2 \\n 008f19352550...32e1372feb23 -->\n",
       "<g id=\"node3\" class=\"node\">\n",
       "<title>ADDR_2 \\n 008f19352550...32e1372feb23</title>\n",
       "<text text-anchor=\"middle\" x=\"300\" y=\"-30.67\" font-family=\"Times,serif\" font-size=\"14.00\">ADDR_2 </text>\n",
       "<text text-anchor=\"middle\" x=\"300\" y=\"-15.67\" font-family=\"Times,serif\" font-size=\"14.00\"> 008f19352550...32e1372feb23</text>\n",
       "</g>\n",
       "<!-- TX_FEES \\n0.166777 ₳ -->\n",
       "<g id=\"node4\" class=\"node\">\n",
       "<title>TX_FEES \\n0.166777 ₳</title>\n",
       "<ellipse fill=\"lightblue\" stroke=\"black\" cx=\"469\" cy=\"-26.87\" rx=\"57.05\" ry=\"26.74\"/>\n",
       "<text text-anchor=\"middle\" x=\"469\" y=\"-30.67\" font-family=\"Times,serif\" font-size=\"14.00\">TX_FEES </text>\n",
       "<text text-anchor=\"middle\" x=\"469\" y=\"-15.67\" font-family=\"Times,serif\" font-size=\"14.00\">0.166777 ₳</text>\n",
       "</g>\n",
       "<!-- TRANSACTION \n",
       " \n",
       " • Network: Testnet \n",
       " &#160;• UTXO amount: 9799.666446 ₳ None \n",
       "\n",
       "&#45;&gt;ADDR_1 \\n 60484a3a1867...ca00170b3f36 -->\n",
       "<g id=\"edge2\" class=\"edge\">\n",
       "<title>TRANSACTION \n",
       " \n",
       " • Network: Testnet \n",
       "  • UTXO amount: 9799.666446 ₳ None \n",
       "\n",
       "-&gt;ADDR_1 \\n 60484a3a1867...ca00170b3f36</title>\n",
       "<path fill=\"none\" stroke=\"black\" d=\"M228.53,-105.17C196.89,-86.99 160.87,-66.29 134.06,-50.89\"/>\n",
       "<polygon fill=\"black\" stroke=\"black\" points=\"135.76,-47.83 125.35,-45.88 132.27,-53.9 135.76,-47.83\"/>\n",
       "<text text-anchor=\"middle\" x=\"233.5\" y=\"-75.54\" font-family=\"Times,serif\" font-size=\"14.00\">9699.499669 ₳</text>\n",
       "</g>\n",
       "<!-- TRANSACTION \n",
       " \n",
       " • Network: Testnet \n",
       " &#160;• UTXO amount: 9799.666446 ₳ None \n",
       "\n",
       "&#45;&gt;ADDR_2 \\n 008f19352550...32e1372feb23 -->\n",
       "<g id=\"edge3\" class=\"edge\">\n",
       "<title>TRANSACTION \n",
       " \n",
       " • Network: Testnet \n",
       "  • UTXO amount: 9799.666446 ₳ None \n",
       "\n",
       "-&gt;ADDR_2 \\n 008f19352550...32e1372feb23</title>\n",
       "<path fill=\"none\" stroke=\"black\" d=\"M300,-105.17C300,-89.1 300,-71.06 300,-56.45\"/>\n",
       "<polygon fill=\"black\" stroke=\"black\" points=\"303.5,-56.04 300,-46.04 296.5,-56.04 303.5,-56.04\"/>\n",
       "<text text-anchor=\"middle\" x=\"322.5\" y=\"-75.54\" font-family=\"Times,serif\" font-size=\"14.00\">100.0 ₳</text>\n",
       "</g>\n",
       "<!-- TRANSACTION \n",
       " \n",
       " • Network: Testnet \n",
       " &#160;• UTXO amount: 9799.666446 ₳ None \n",
       "\n",
       "&#45;&gt;TX_FEES \\n0.166777 ₳ -->\n",
       "<g id=\"edge4\" class=\"edge\">\n",
       "<title>TRANSACTION \n",
       " \n",
       " • Network: Testnet \n",
       "  • UTXO amount: 9799.666446 ₳ None \n",
       "\n",
       "-&gt;TX_FEES \\n0.166777 ₳</title>\n",
       "<path fill=\"none\" stroke=\"black\" d=\"M358.63,-105.17C382.09,-88.74 408.5,-70.24 429.6,-55.47\"/>\n",
       "<polygon fill=\"black\" stroke=\"black\" points=\"431.81,-58.19 438,-49.59 427.8,-52.46 431.81,-58.19\"/>\n",
       "</g>\n",
       "<!-- \\n WITNESS_1 \\n Signature = bd5809e...10e160d \\n vKey = 56aa7a3...897263f \\n\\n -->\n",
       "<g id=\"node6\" class=\"node\">\n",
       "<title>\\n WITNESS_1 \\n Signature = bd5809e...10e160d \\n vKey = 56aa7a3...897263f \\n\\n</title>\n",
       "<polygon fill=\"lightgreen\" stroke=\"black\" points=\"637,-183.74 441,-183.74 441,-110.74 637,-110.74 637,-183.74\"/>\n",
       "<polyline fill=\"none\" stroke=\"black\" points=\"444,-148.74 447,-145.74\"/>\n",
       "<polyline fill=\"none\" stroke=\"black\" points=\"444,-145.74 447,-148.74\"/>\n",
       "<polyline fill=\"none\" stroke=\"black\" points=\"444,-113.74 634,-113.74\"/>\n",
       "<text text-anchor=\"middle\" x=\"539\" y=\"-158.54\" font-family=\"Times,serif\" font-size=\"14.00\"> WITNESS_1 </text>\n",
       "<text text-anchor=\"middle\" x=\"539\" y=\"-143.54\" font-family=\"Times,serif\" font-size=\"14.00\"> Signature = bd5809e...10e160d </text>\n",
       "<text text-anchor=\"middle\" x=\"539\" y=\"-128.54\" font-family=\"Times,serif\" font-size=\"14.00\"> vKey = 56aa7a3...897263f </text>\n",
       "</g>\n",
       "</g>\n",
       "</svg>"
      ],
      "text/plain": [
       "<IPython.core.display.SVG object>"
      ]
     },
     "execution_count": 33,
     "metadata": {},
     "output_type": "execute_result"
    }
   ],
   "source": [
    "from IPython.display import SVG\n",
    "from cardano_py_tools import transaction as tx\n",
    "tx.vizualisation(txFile=\"tx-files/tx-one.signed\", saveTo=\"tx-files/tx-one.svg\")\n",
    "SVG(\"tx-files/tx-one.svg\")"
   ]
  },
  {
   "cell_type": "markdown",
   "metadata": {},
   "source": [
    "### Submit the transaction"
   ]
  },
  {
   "cell_type": "code",
   "execution_count": 37,
   "metadata": {},
   "outputs": [
    {
     "name": "stdout",
     "output_type": "stream",
     "text": [
      "Transaction successfully submitted.\n"
     ]
    }
   ],
   "source": [
    "%%bash\n",
    "cardano-cli transaction submit \\\n",
    "--tx-file tx-files/tx-one.signed \\\n",
    "--testnet-magic 1"
   ]
  },
  {
   "cell_type": "markdown",
   "metadata": {},
   "source": [
    "### Check the receiver address "
   ]
  },
  {
   "cell_type": "code",
   "execution_count": 41,
   "metadata": {},
   "outputs": [
    {
     "name": "stdout",
     "output_type": "stream",
     "text": [
      "                           TxHash                                 TxIx        Amount\n",
      "--------------------------------------------------------------------------------------\n",
      "0be38e65bec5eebde5ca3308a75e5c8adcd1b184534b445c984185d7d6f9aee5     1        100000000 lovelace + TxOutDatumNone\n",
      "3e0f2493e7556968b9534e439111c08da761ac52783c7188b4b944068c0662ee     1        100000000 lovelace + TxOutDatumNone\n",
      "8d4f02739f9f921e7d50cd7765527242a1ca5bd37dc479a550af99463290d89f     1        100000000 lovelace + TxOutDatumNone\n",
      "a9ed1f9dd03fb6226f7ceab1c17e8dfb61ae0fadef7a51c0e53b672914676ca6     0        10000000000 lovelace + TxOutDatumNone\n"
     ]
    }
   ],
   "source": [
    "%%bash\n",
    "cardano-cli query utxo \\\n",
    "--address $(cat /users/$(whoami)/testnet/priv/wallet/Drake/drake.addr) \\\n",
    "--testnet-magic 1"
   ]
  },
  {
   "cell_type": "markdown",
   "metadata": {},
   "source": [
    "## 2) Create a transaction using the command build-raw\n",
    "\n",
    "With the command build raw you can create the transaction of-chain before submit on chain."
   ]
  },
  {
   "cell_type": "markdown",
   "metadata": {},
   "source": [
    "### Build the transaction"
   ]
  },
  {
   "cell_type": "code",
   "execution_count": 102,
   "metadata": {},
   "outputs": [],
   "source": [
    "%%bash\n",
    "UTXO_IN=a9ed1f9dd03fb6226f7ceab1c17e8dfb61ae0fadef7a51c0e53b672914676ca6#0\n",
    "SENDER_ADDR=$(cat /users/$(whoami)/testnet/priv/wallet/Drake/drake.addr)\n",
    "RECEIVER_ADDR=$(cat /users/$(whoami)/testnet/priv/wallet/Djessy/djessy.addr)\n",
    "OUTPUT=200000000\n",
    "CHANGES=$((10000000000 - $OUTPUT))\n",
    "          \n",
    "# Build the draf transaction\n",
    "cardano-cli transaction build-raw \\\n",
    "--fee 0 \\\n",
    "--tx-in $UTXO_IN \\\n",
    "--tx-out $RECEIVER_ADDR+$OUTPUT \\\n",
    "--tx-out $SENDER_ADDR+$CHANGES \\\n",
    "--out-file tx-files/tx-two.draft\n",
    "\n",
    "# Get the parameter protocol json\n",
    "cardano-cli query protocol-parameters \\\n",
    "--testnet-magic 1 \\\n",
    "--out-file tx-files/protocol-params.json\n",
    " \n",
    "# Calculate the fee\n",
    "FEE=$(echo $(cardano-cli transaction calculate-min-fee \\\n",
    "--protocol-params-file tx-files/protocol-params.json \\\n",
    "--tx-body-file tx-files/tx-two.draft \\\n",
    "--tx-in-count 1 \\\n",
    "--tx-out-count 2 \\\n",
    "--witness-count 1) | cut -d ' ' -f1)\n",
    "\n",
    "# Build the transaction\n",
    "cardano-cli transaction build-raw \\\n",
    "--fee $FEE \\\n",
    "--tx-in $UTXO_IN \\\n",
    "--tx-out $RECEIVER_ADDR+$OUTPUT \\\n",
    "--tx-out $SENDER_ADDR+$(($CHANGES - $FEE)) \\\n",
    "--out-file tx-files/tx-two.raw\n",
    "\n",
    "# Sign the transaction\n",
    "cardano-cli transaction sign \\\n",
    "--tx-body-file tx-files/tx-two.raw \\\n",
    "--signing-key-file /users/$(whoami)/testnet/priv/wallet/Drake/drake-payment.addr.skey \\\n",
    "--out-file tx-files/tx-two.signed "
   ]
  },
  {
   "cell_type": "markdown",
   "metadata": {},
   "source": [
    "### Flowchart of the transaction"
   ]
  },
  {
   "cell_type": "code",
   "execution_count": 103,
   "metadata": {},
   "outputs": [
    {
     "data": {
      "image/svg+xml": [
       "<svg xmlns=\"http://www.w3.org/2000/svg\" xmlns:xlink=\"http://www.w3.org/1999/xlink\" width=\"631pt\" height=\"273pt\" viewBox=\"0.00 0.00 631.00 272.74\">\n",
       "<g id=\"graph0\" class=\"graph\" transform=\"scale(1 1) rotate(0) translate(4 268.74)\">\n",
       "<title>G</title>\n",
       "<polygon fill=\"white\" stroke=\"none\" points=\"-4,4 -4,-268.74 627,-268.74 627,4 -4,4\"/>\n",
       "<!-- UTXO_IN_1 \\n a9ed1f9...76ca6#0 -->\n",
       "<g id=\"node1\" class=\"node\">\n",
       "<title>UTXO_IN_1 \\n a9ed1f9...76ca6#0</title>\n",
       "<polygon fill=\"none\" stroke=\"black\" points=\"360.5,-264.74 239.5,-264.74 239.5,-226.74 360.5,-226.74 360.5,-264.74\"/>\n",
       "<text text-anchor=\"middle\" x=\"300\" y=\"-249.54\" font-family=\"Times,serif\" font-size=\"14.00\">UTXO_IN_1 </text>\n",
       "<text text-anchor=\"middle\" x=\"300\" y=\"-234.54\" font-family=\"Times,serif\" font-size=\"14.00\"> a9ed1f9...76ca6#0</text>\n",
       "</g>\n",
       "<!-- TRANSACTION \n",
       " \n",
       " • Network: Testnet \n",
       " &#160;• UTXO amount: 10000.0 ₳ None \n",
       "\n",
       " -->\n",
       "<g id=\"node5\" class=\"node\">\n",
       "<title>TRANSACTION \n",
       " \n",
       " • Network: Testnet \n",
       "  • UTXO amount: 10000.0 ₳ None \n",
       "\n",
       "</title>\n",
       "<polygon fill=\"none\" stroke=\"black\" points=\"409,-189.24 195,-189.24 191,-185.24 191,-105.24 405,-105.24 409,-109.24 409,-189.24\"/>\n",
       "<polyline fill=\"none\" stroke=\"black\" points=\"405,-185.24 191,-185.24\"/>\n",
       "<polyline fill=\"none\" stroke=\"black\" points=\"405,-185.24 405,-105.24\"/>\n",
       "<polyline fill=\"none\" stroke=\"black\" points=\"405,-185.24 409,-189.24\"/>\n",
       "<text text-anchor=\"middle\" x=\"300\" y=\"-174.04\" font-family=\"Times,serif\" font-size=\"14.00\">TRANSACTION </text>\n",
       "<text text-anchor=\"middle\" x=\"300\" y=\"-159.04\" font-family=\"Times,serif\" font-size=\"14.00\"> </text>\n",
       "<text text-anchor=\"middle\" x=\"300\" y=\"-144.04\" font-family=\"Times,serif\" font-size=\"14.00\"> • Network: Testnet </text>\n",
       "<text text-anchor=\"middle\" x=\"300\" y=\"-129.04\" font-family=\"Times,serif\" font-size=\"14.00\">  • UTXO amount: 10000.0 ₳ None </text>\n",
       "</g>\n",
       "<!-- UTXO_IN_1 \\n a9ed1f9...76ca6#0&#45;&gt;TRANSACTION \n",
       " \n",
       " • Network: Testnet \n",
       " &#160;• UTXO amount: 10000.0 ₳ None \n",
       "\n",
       " -->\n",
       "<g id=\"edge1\" class=\"edge\">\n",
       "<title>UTXO_IN_1 \\n a9ed1f9...76ca6#0-&gt;TRANSACTION \n",
       " \n",
       " • Network: Testnet \n",
       "  • UTXO amount: 10000.0 ₳ None \n",
       "\n",
       "</title>\n",
       "<path fill=\"none\" stroke=\"black\" d=\"M300,-226.59C300,-218.81 300,-209.29 300,-199.6\"/>\n",
       "<polygon fill=\"black\" stroke=\"black\" points=\"303.5,-199.51 300,-189.51 296.5,-199.51 303.5,-199.51\"/>\n",
       "</g>\n",
       "<!-- ADDR_1 \\n 60484a3a1867...ca00170b3f36 -->\n",
       "<g id=\"node2\" class=\"node\">\n",
       "<title>ADDR_1 \\n 60484a3a1867...ca00170b3f36</title>\n",
       "<text text-anchor=\"middle\" x=\"94\" y=\"-30.67\" font-family=\"Times,serif\" font-size=\"14.00\">ADDR_1 </text>\n",
       "<text text-anchor=\"middle\" x=\"94\" y=\"-15.67\" font-family=\"Times,serif\" font-size=\"14.00\"> 60484a3a1867...ca00170b3f36</text>\n",
       "</g>\n",
       "<!-- ADDR_2 \\n 008f19352550...32e1372feb23 -->\n",
       "<g id=\"node3\" class=\"node\">\n",
       "<title>ADDR_2 \\n 008f19352550...32e1372feb23</title>\n",
       "<text text-anchor=\"middle\" x=\"300\" y=\"-30.67\" font-family=\"Times,serif\" font-size=\"14.00\">ADDR_2 </text>\n",
       "<text text-anchor=\"middle\" x=\"300\" y=\"-15.67\" font-family=\"Times,serif\" font-size=\"14.00\"> 008f19352550...32e1372feb23</text>\n",
       "</g>\n",
       "<!-- TX_FEES \\n0.175621 ₳ -->\n",
       "<g id=\"node4\" class=\"node\">\n",
       "<title>TX_FEES \\n0.175621 ₳</title>\n",
       "<ellipse fill=\"lightblue\" stroke=\"black\" cx=\"469\" cy=\"-26.87\" rx=\"57.05\" ry=\"26.74\"/>\n",
       "<text text-anchor=\"middle\" x=\"469\" y=\"-30.67\" font-family=\"Times,serif\" font-size=\"14.00\">TX_FEES </text>\n",
       "<text text-anchor=\"middle\" x=\"469\" y=\"-15.67\" font-family=\"Times,serif\" font-size=\"14.00\">0.175621 ₳</text>\n",
       "</g>\n",
       "<!-- TRANSACTION \n",
       " \n",
       " • Network: Testnet \n",
       " &#160;• UTXO amount: 10000.0 ₳ None \n",
       "\n",
       "&#45;&gt;ADDR_1 \\n 60484a3a1867...ca00170b3f36 -->\n",
       "<g id=\"edge2\" class=\"edge\">\n",
       "<title>TRANSACTION \n",
       " \n",
       " • Network: Testnet \n",
       "  • UTXO amount: 10000.0 ₳ None \n",
       "\n",
       "-&gt;ADDR_1 \\n 60484a3a1867...ca00170b3f36</title>\n",
       "<path fill=\"none\" stroke=\"black\" d=\"M228.53,-105.17C196.89,-86.99 160.87,-66.29 134.06,-50.89\"/>\n",
       "<polygon fill=\"black\" stroke=\"black\" points=\"135.76,-47.83 125.35,-45.88 132.27,-53.9 135.76,-47.83\"/>\n",
       "<text text-anchor=\"middle\" x=\"213.5\" y=\"-75.54\" font-family=\"Times,serif\" font-size=\"14.00\">200.0 ₳</text>\n",
       "</g>\n",
       "<!-- TRANSACTION \n",
       " \n",
       " • Network: Testnet \n",
       " &#160;• UTXO amount: 10000.0 ₳ None \n",
       "\n",
       "&#45;&gt;ADDR_2 \\n 008f19352550...32e1372feb23 -->\n",
       "<g id=\"edge3\" class=\"edge\">\n",
       "<title>TRANSACTION \n",
       " \n",
       " • Network: Testnet \n",
       "  • UTXO amount: 10000.0 ₳ None \n",
       "\n",
       "-&gt;ADDR_2 \\n 008f19352550...32e1372feb23</title>\n",
       "<path fill=\"none\" stroke=\"black\" d=\"M300,-105.17C300,-89.1 300,-71.06 300,-56.45\"/>\n",
       "<polygon fill=\"black\" stroke=\"black\" points=\"303.5,-56.04 300,-46.04 296.5,-56.04 303.5,-56.04\"/>\n",
       "<text text-anchor=\"middle\" x=\"342.5\" y=\"-75.54\" font-family=\"Times,serif\" font-size=\"14.00\">9799.824379 ₳</text>\n",
       "</g>\n",
       "<!-- TRANSACTION \n",
       " \n",
       " • Network: Testnet \n",
       " &#160;• UTXO amount: 10000.0 ₳ None \n",
       "\n",
       "&#45;&gt;TX_FEES \\n0.175621 ₳ -->\n",
       "<g id=\"edge4\" class=\"edge\">\n",
       "<title>TRANSACTION \n",
       " \n",
       " • Network: Testnet \n",
       "  • UTXO amount: 10000.0 ₳ None \n",
       "\n",
       "-&gt;TX_FEES \\n0.175621 ₳</title>\n",
       "<path fill=\"none\" stroke=\"black\" d=\"M362.49,-104.98C371.43,-98.93 380.48,-92.72 389,-86.74 403.03,-76.9 418.22,-65.83 431.56,-55.96\"/>\n",
       "<polygon fill=\"black\" stroke=\"black\" points=\"433.65,-58.77 439.6,-50 429.48,-53.14 433.65,-58.77\"/>\n",
       "</g>\n",
       "<!-- \\n WITNESS_1 \\n Signature = a6db66b...5c57102 \\n vKey = 6361910...43d6474 \\n\\n -->\n",
       "<g id=\"node6\" class=\"node\">\n",
       "<title>\\n WITNESS_1 \\n Signature = a6db66b...5c57102 \\n vKey = 6361910...43d6474 \\n\\n</title>\n",
       "<polygon fill=\"lightgreen\" stroke=\"black\" points=\"623,-183.74 427,-183.74 427,-110.74 623,-110.74 623,-183.74\"/>\n",
       "<polyline fill=\"none\" stroke=\"black\" points=\"430,-148.74 433,-145.74\"/>\n",
       "<polyline fill=\"none\" stroke=\"black\" points=\"430,-145.74 433,-148.74\"/>\n",
       "<polyline fill=\"none\" stroke=\"black\" points=\"430,-113.74 620,-113.74\"/>\n",
       "<text text-anchor=\"middle\" x=\"525\" y=\"-158.54\" font-family=\"Times,serif\" font-size=\"14.00\"> WITNESS_1 </text>\n",
       "<text text-anchor=\"middle\" x=\"525\" y=\"-143.54\" font-family=\"Times,serif\" font-size=\"14.00\"> Signature = a6db66b...5c57102 </text>\n",
       "<text text-anchor=\"middle\" x=\"525\" y=\"-128.54\" font-family=\"Times,serif\" font-size=\"14.00\"> vKey = 6361910...43d6474 </text>\n",
       "</g>\n",
       "</g>\n",
       "</svg>"
      ],
      "text/plain": [
       "<IPython.core.display.SVG object>"
      ]
     },
     "execution_count": 103,
     "metadata": {},
     "output_type": "execute_result"
    }
   ],
   "source": [
    "from IPython.display import SVG\n",
    "from cardano_py_tools import transaction as tx\n",
    "tx.vizualisation(txFile=\"tx-files/tx-two.signed\", saveTo=\"tx-files/tx-two.svg\")\n",
    "SVG(\"tx-files/tx-two.svg\")"
   ]
  },
  {
   "cell_type": "markdown",
   "metadata": {},
   "source": [
    "### Submit the transaction"
   ]
  },
  {
   "cell_type": "code",
   "execution_count": 104,
   "metadata": {},
   "outputs": [
    {
     "name": "stdout",
     "output_type": "stream",
     "text": [
      "Transaction successfully submitted.\n"
     ]
    }
   ],
   "source": [
    "%%bash\n",
    "cardano-cli transaction submit \\\n",
    "--tx-file tx-files/tx-two.signed \\\n",
    "--testnet-magic 1"
   ]
  },
  {
   "cell_type": "markdown",
   "metadata": {},
   "source": [
    "### Check the receiver address"
   ]
  },
  {
   "cell_type": "code",
   "execution_count": 105,
   "metadata": {},
   "outputs": [
    {
     "name": "stdout",
     "output_type": "stream",
     "text": [
      "                           TxHash                                 TxIx        Amount\n",
      "--------------------------------------------------------------------------------------\n",
      "0be38e65bec5eebde5ca3308a75e5c8adcd1b184534b445c984185d7d6f9aee5     0        9699499669 lovelace + TxOutDatumNone\n",
      "c370cb076dc5893f548a8acf42fd507f4c21d667c036602e9092ca38f5fafbc5     0        200000000 lovelace + TxOutDatumNone\n"
     ]
    }
   ],
   "source": [
    "%%bash\n",
    "cardano-cli query utxo \\\n",
    "--address $(cat /users/$(whoami)/testnet/priv/wallet/Djessy/djessy.addr) \\\n",
    "--testnet-magic 1"
   ]
  },
  {
   "cell_type": "code",
   "execution_count": 107,
   "metadata": {},
   "outputs": [
    {
     "name": "stdout",
     "output_type": "stream",
     "text": [
      "[jupytext] Reading how-to-create-a-simple-tx.ipynb in format ipynb\n",
      "Traceback (most recent call last):\n",
      "  File \"/Library/Frameworks/Python.framework/Versions/3.8/bin/jupytext\", line 8, in <module>\n",
      "    sys.exit(jupytext())\n",
      "  File \"/Library/Frameworks/Python.framework/Versions/3.8/lib/python3.8/site-packages/jupytext/cli.py\", line 488, in jupytext\n",
      "    exit_code += jupytext_single_file(nb_file, args, log)\n",
      "  File \"/Library/Frameworks/Python.framework/Versions/3.8/lib/python3.8/site-packages/jupytext/cli.py\", line 552, in jupytext_single_file\n",
      "    notebook = read(nb_file, fmt=fmt, config=config)\n",
      "  File \"/Library/Frameworks/Python.framework/Versions/3.8/lib/python3.8/site-packages/jupytext/jupytext.py\", line 411, in read\n",
      "    with open(fp, encoding=\"utf-8\") as stream:\n",
      "FileNotFoundError: [Errno 2] No such file or directory: 'how-to-create-a-simple-tx.ipynb'\n"
     ]
    }
   ],
   "source": [
    "!jupytext --to markdown how-to-create-a-simple-tx.ipynb"
   ]
  },
  {
   "cell_type": "code",
   "execution_count": null,
   "metadata": {},
   "outputs": [],
   "source": []
  }
 ],
 "metadata": {
  "kernelspec": {
   "display_name": "Python 3",
   "language": "python",
   "name": "python3"
  },
  "language_info": {
   "codemirror_mode": {
    "name": "ipython",
    "version": 3
   },
   "file_extension": ".py",
   "mimetype": "text/x-python",
   "name": "python",
   "nbconvert_exporter": "python",
   "pygments_lexer": "ipython3",
   "version": "3.8.0"
  }
 },
 "nbformat": 4,
 "nbformat_minor": 4
}
