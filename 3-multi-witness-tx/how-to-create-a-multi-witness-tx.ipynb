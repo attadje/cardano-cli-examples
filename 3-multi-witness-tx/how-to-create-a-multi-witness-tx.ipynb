{
 "cells": [
  {
   "cell_type": "markdown",
   "metadata": {},
   "source": [
    "# How to create a multi-witness transaction\n",
    "\n",
    "A multi-witness transaction, allow you to spend funds from different wallets that your control or not.   \n",
    "For spending the funds from different wallets, you just have to provide a signature of the transanction of each addresses where the UTXOs is locked. "
   ]
  },
  {
   "cell_type": "markdown",
   "metadata": {},
   "source": [
    "### Get the UTXO from the addresses you want to used for the payment "
   ]
  },
  {
   "cell_type": "code",
   "execution_count": 28,
   "metadata": {},
   "outputs": [
    {
     "name": "stdout",
     "output_type": "stream",
     "text": [
      "                           TxHash                                 TxIx        Amount\n",
      "--------------------------------------------------------------------------------------\n",
      "08b99aaa95c752e2a2c128e0ef65ae1aa492aef8103f71a01a0faee39c256879     0        7699334124 lovelace + TxOutDatumNone\n",
      "c370cb076dc5893f548a8acf42fd507f4c21d667c036602e9092ca38f5fafbc5     0        200000000 lovelace + TxOutDatumNone\n",
      "                           TxHash                                 TxIx        Amount\n",
      "--------------------------------------------------------------------------------------\n",
      "08b99aaa95c752e2a2c128e0ef65ae1aa492aef8103f71a01a0faee39c256879     1        2000000000 lovelace + TxOutDatumNone\n"
     ]
    }
   ],
   "source": [
    "%%bash\n",
    "# Djessy wallet 1\n",
    "cardano-cli query utxo \\\n",
    "--address $(cat /users/$(whoami)/testnet/priv/wallet/Djessy/djessy.addr) \\\n",
    "--testnet-magic 1\n",
    "\n",
    "# Drake wallet 2\n",
    "cardano-cli query utxo \\\n",
    "--address $(cat /users/$(whoami)/testnet/priv/wallet/Djessy-Wallet2/djessy.addr) \\\n",
    "--testnet-magic 1"
   ]
  },
  {
   "cell_type": "markdown",
   "metadata": {},
   "source": [
    "## 1) Build the transaction using the command build\n",
    "\n",
    "In this transaction, we will send funds to an other address using the UTXOs from two different wallets that we control (where you own the signing key).  \n",
    "\n",
    "You can make the same transaction with a wallet that you don't control, you just have to build the transaction, send it to the person who own the UTXOs used as input so he can signed it. Where you have all the signature, you just have to assemble it and submit it to the node."
   ]
  },
  {
   "cell_type": "code",
   "execution_count": 38,
   "metadata": {},
   "outputs": [
    {
     "name": "stdout",
     "output_type": "stream",
     "text": [
      "Estimated transaction fee: Lovelace 171529\n"
     ]
    }
   ],
   "source": [
    "%%bash\n",
    "UTXO_IN1=08b99aaa95c752e2a2c128e0ef65ae1aa492aef8103f71a01a0faee39c256879#0\n",
    "UTXO_IN2=c370cb076dc5893f548a8acf42fd507f4c21d667c036602e9092ca38f5fafbc5#0\n",
    "UTXO_IN3=08b99aaa95c752e2a2c128e0ef65ae1aa492aef8103f71a01a0faee39c256879#1\n",
    "CHANGE_ADDR=$(cat /users/$(whoami)/testnet/priv/wallet/Lola/lola.addr)\n",
    "\n",
    "# Build the transaction\n",
    "cardano-cli transaction build \\\n",
    "--witness-override 2 \\\n",
    "--tx-in $UTXO_IN1 \\\n",
    "--tx-in $UTXO_IN2 \\\n",
    "--tx-in $UTXO_IN3 \\\n",
    "--change-address $CHANGE_ADDR \\\n",
    "--testnet-magic 1 \\\n",
    "--out-file tx-files/tx-one.raw\n",
    "\n",
    "# Sign the transaction with the private key of the address 1 (Djessy wallet 1)\n",
    "cardano-cli transaction witness \\\n",
    "--signing-key-file /users/$(whoami)/testnet/priv/wallet/Djessy-Wallet1/djessy.addr.skey \\\n",
    "--tx-body-file tx-files/tx-one.raw \\\n",
    "--out-file tx-files/djessyW1.witness\n",
    "\n",
    "# Sign the transaction with the private key of the address 2 (Djessy wallet 2\n",
    "cardano-cli transaction witness \\\n",
    "--signing-key-file /users/$(whoami)/testnet/priv/wallet/Djessy-Wallet2/djessy.addr.skey \\\n",
    "--tx-body-file tx-files/tx-one.raw \\\n",
    "--out-file tx-files/djessyW2.witness\n",
    "\n",
    "# Assemble the transaction\n",
    "cardano-cli transaction assemble \\\n",
    "--tx-body-file tx-files/tx-one.raw \\\n",
    "--witness-file tx-files/djessyW1.witness \\\n",
    "--witness-file tx-files/djessyW2.witness \\\n",
    "--out-file tx-files/tx-one.signed"
   ]
  },
  {
   "cell_type": "markdown",
   "metadata": {},
   "source": [
    "### Flow chart of the transaction"
   ]
  },
  {
   "cell_type": "code",
   "execution_count": 39,
   "metadata": {},
   "outputs": [
    {
     "data": {
      "image/svg+xml": [
       "<svg xmlns=\"http://www.w3.org/2000/svg\" xmlns:xlink=\"http://www.w3.org/1999/xlink\" width=\"762pt\" height=\"273pt\" viewBox=\"0.00 0.00 762.00 272.74\">\n",
       "<g id=\"graph0\" class=\"graph\" transform=\"scale(1 1) rotate(0) translate(4 268.74)\">\n",
       "<title>G</title>\n",
       "<polygon fill=\"white\" stroke=\"none\" points=\"-4,4 -4,-268.74 758,-268.74 758,4 -4,4\"/>\n",
       "<!-- UTXO_IN_1 \\n 08b99aa...56879#0 -->\n",
       "<g id=\"node1\" class=\"node\">\n",
       "<title>UTXO_IN_1 \\n 08b99aa...56879#0</title>\n",
       "<polygon fill=\"none\" stroke=\"black\" points=\"125,-264.74 0,-264.74 0,-226.74 125,-226.74 125,-264.74\"/>\n",
       "<text text-anchor=\"middle\" x=\"62.5\" y=\"-249.54\" font-family=\"Times,serif\" font-size=\"14.00\">UTXO_IN_1 </text>\n",
       "<text text-anchor=\"middle\" x=\"62.5\" y=\"-234.54\" font-family=\"Times,serif\" font-size=\"14.00\"> 08b99aa...56879#0</text>\n",
       "</g>\n",
       "<!-- TRANSACTION \n",
       " \n",
       " • Network: Testnet \n",
       " &#160;• UTXO amount: 9899.334124 ₳ None \n",
       "\n",
       " -->\n",
       "<g id=\"node6\" class=\"node\">\n",
       "<title>TRANSACTION \n",
       " \n",
       " • Network: Testnet \n",
       "  • UTXO amount: 9899.334124 ₳ None \n",
       "\n",
       "</title>\n",
       "<polygon fill=\"none\" stroke=\"black\" points=\"328,-189.24 87,-189.24 83,-185.24 83,-105.24 324,-105.24 328,-109.24 328,-189.24\"/>\n",
       "<polyline fill=\"none\" stroke=\"black\" points=\"324,-185.24 83,-185.24\"/>\n",
       "<polyline fill=\"none\" stroke=\"black\" points=\"324,-185.24 324,-105.24\"/>\n",
       "<polyline fill=\"none\" stroke=\"black\" points=\"324,-185.24 328,-189.24\"/>\n",
       "<text text-anchor=\"middle\" x=\"205.5\" y=\"-174.04\" font-family=\"Times,serif\" font-size=\"14.00\">TRANSACTION </text>\n",
       "<text text-anchor=\"middle\" x=\"205.5\" y=\"-159.04\" font-family=\"Times,serif\" font-size=\"14.00\"> </text>\n",
       "<text text-anchor=\"middle\" x=\"205.5\" y=\"-144.04\" font-family=\"Times,serif\" font-size=\"14.00\"> • Network: Testnet </text>\n",
       "<text text-anchor=\"middle\" x=\"205.5\" y=\"-129.04\" font-family=\"Times,serif\" font-size=\"14.00\">  • UTXO amount: 9899.334124 ₳ None </text>\n",
       "</g>\n",
       "<!-- UTXO_IN_1 \\n 08b99aa...56879#0&#45;&gt;TRANSACTION \n",
       " \n",
       " • Network: Testnet \n",
       " &#160;• UTXO amount: 9899.334124 ₳ None \n",
       "\n",
       " -->\n",
       "<g id=\"edge1\" class=\"edge\">\n",
       "<title>UTXO_IN_1 \\n 08b99aa...56879#0-&gt;TRANSACTION \n",
       " \n",
       " • Network: Testnet \n",
       "  • UTXO amount: 9899.334124 ₳ None \n",
       "\n",
       "</title>\n",
       "<path fill=\"none\" stroke=\"black\" d=\"M89.4,-226.59C102.69,-217.62 119.42,-206.33 136,-195.14\"/>\n",
       "<polygon fill=\"black\" stroke=\"black\" points=\"138.31,-197.81 144.64,-189.31 134.39,-192 138.31,-197.81\"/>\n",
       "</g>\n",
       "<!-- UTXO_IN_2 \\n 08b99aa...56879#1 -->\n",
       "<g id=\"node2\" class=\"node\">\n",
       "<title>UTXO_IN_2 \\n 08b99aa...56879#1</title>\n",
       "<polygon fill=\"none\" stroke=\"black\" points=\"268,-264.74 143,-264.74 143,-226.74 268,-226.74 268,-264.74\"/>\n",
       "<text text-anchor=\"middle\" x=\"205.5\" y=\"-249.54\" font-family=\"Times,serif\" font-size=\"14.00\">UTXO_IN_2 </text>\n",
       "<text text-anchor=\"middle\" x=\"205.5\" y=\"-234.54\" font-family=\"Times,serif\" font-size=\"14.00\"> 08b99aa...56879#1</text>\n",
       "</g>\n",
       "<!-- UTXO_IN_2 \\n 08b99aa...56879#1&#45;&gt;TRANSACTION \n",
       " \n",
       " • Network: Testnet \n",
       " &#160;• UTXO amount: 9899.334124 ₳ None \n",
       "\n",
       " -->\n",
       "<g id=\"edge2\" class=\"edge\">\n",
       "<title>UTXO_IN_2 \\n 08b99aa...56879#1-&gt;TRANSACTION \n",
       " \n",
       " • Network: Testnet \n",
       "  • UTXO amount: 9899.334124 ₳ None \n",
       "\n",
       "</title>\n",
       "<path fill=\"none\" stroke=\"black\" d=\"M205.5,-226.59C205.5,-218.81 205.5,-209.29 205.5,-199.6\"/>\n",
       "<polygon fill=\"black\" stroke=\"black\" points=\"209,-199.51 205.5,-189.51 202,-199.51 209,-199.51\"/>\n",
       "</g>\n",
       "<!-- UTXO_IN_3 \\n c370cb0...afbc5#0 -->\n",
       "<g id=\"node3\" class=\"node\">\n",
       "<title>UTXO_IN_3 \\n c370cb0...afbc5#0</title>\n",
       "<polygon fill=\"none\" stroke=\"black\" points=\"407,-264.74 286,-264.74 286,-226.74 407,-226.74 407,-264.74\"/>\n",
       "<text text-anchor=\"middle\" x=\"346.5\" y=\"-249.54\" font-family=\"Times,serif\" font-size=\"14.00\">UTXO_IN_3 </text>\n",
       "<text text-anchor=\"middle\" x=\"346.5\" y=\"-234.54\" font-family=\"Times,serif\" font-size=\"14.00\"> c370cb0...afbc5#0</text>\n",
       "</g>\n",
       "<!-- UTXO_IN_3 \\n c370cb0...afbc5#0&#45;&gt;TRANSACTION \n",
       " \n",
       " • Network: Testnet \n",
       " &#160;• UTXO amount: 9899.334124 ₳ None \n",
       "\n",
       " -->\n",
       "<g id=\"edge3\" class=\"edge\">\n",
       "<title>UTXO_IN_3 \\n c370cb0...afbc5#0-&gt;TRANSACTION \n",
       " \n",
       " • Network: Testnet \n",
       "  • UTXO amount: 9899.334124 ₳ None \n",
       "\n",
       "</title>\n",
       "<path fill=\"none\" stroke=\"black\" d=\"M319.98,-226.59C306.87,-217.62 290.38,-206.33 274.03,-195.14\"/>\n",
       "<polygon fill=\"black\" stroke=\"black\" points=\"275.74,-192.07 265.51,-189.31 271.79,-197.85 275.74,-192.07\"/>\n",
       "</g>\n",
       "<!-- ADDR_1 \\n 60b54c17653f...56333e7d65a0 -->\n",
       "<g id=\"node4\" class=\"node\">\n",
       "<title>ADDR_1 \\n 60b54c17653f...56333e7d65a0</title>\n",
       "<text text-anchor=\"middle\" x=\"120.5\" y=\"-30.67\" font-family=\"Times,serif\" font-size=\"14.00\">ADDR_1 </text>\n",
       "<text text-anchor=\"middle\" x=\"120.5\" y=\"-15.67\" font-family=\"Times,serif\" font-size=\"14.00\"> 60b54c17653f...56333e7d65a0</text>\n",
       "</g>\n",
       "<!-- TX_FEES \\n0.171529 ₳ -->\n",
       "<g id=\"node5\" class=\"node\">\n",
       "<title>TX_FEES \\n0.171529 ₳</title>\n",
       "<ellipse fill=\"lightblue\" stroke=\"black\" cx=\"290.5\" cy=\"-26.87\" rx=\"57.05\" ry=\"26.74\"/>\n",
       "<text text-anchor=\"middle\" x=\"290.5\" y=\"-30.67\" font-family=\"Times,serif\" font-size=\"14.00\">TX_FEES </text>\n",
       "<text text-anchor=\"middle\" x=\"290.5\" y=\"-15.67\" font-family=\"Times,serif\" font-size=\"14.00\">0.171529 ₳</text>\n",
       "</g>\n",
       "<!-- TRANSACTION \n",
       " \n",
       " • Network: Testnet \n",
       " &#160;• UTXO amount: 9899.334124 ₳ None \n",
       "\n",
       "&#45;&gt;ADDR_1 \\n 60b54c17653f...56333e7d65a0 -->\n",
       "<g id=\"edge4\" class=\"edge\">\n",
       "<title>TRANSACTION \n",
       " \n",
       " • Network: Testnet \n",
       "  • UTXO amount: 9899.334124 ₳ None \n",
       "\n",
       "-&gt;ADDR_1 \\n 60b54c17653f...56333e7d65a0</title>\n",
       "<path fill=\"none\" stroke=\"black\" d=\"M176.01,-105.17C163.9,-88.32 150.24,-69.29 139.5,-54.33\"/>\n",
       "<polygon fill=\"black\" stroke=\"black\" points=\"142.22,-52.12 133.55,-46.04 136.54,-56.2 142.22,-52.12\"/>\n",
       "<text text-anchor=\"middle\" x=\"203\" y=\"-75.54\" font-family=\"Times,serif\" font-size=\"14.00\">9899.162595 ₳</text>\n",
       "</g>\n",
       "<!-- TRANSACTION \n",
       " \n",
       " • Network: Testnet \n",
       " &#160;• UTXO amount: 9899.334124 ₳ None \n",
       "\n",
       "&#45;&gt;TX_FEES \\n0.171529 ₳ -->\n",
       "<g id=\"edge5\" class=\"edge\">\n",
       "<title>TRANSACTION \n",
       " \n",
       " • Network: Testnet \n",
       "  • UTXO amount: 9899.334124 ₳ None \n",
       "\n",
       "-&gt;TX_FEES \\n0.171529 ₳</title>\n",
       "<path fill=\"none\" stroke=\"black\" d=\"M236.19,-105.06C240.68,-98.94 245.23,-92.69 249.5,-86.74 255.49,-78.39 261.88,-69.31 267.79,-60.84\"/>\n",
       "<polygon fill=\"black\" stroke=\"black\" points=\"270.67,-62.82 273.5,-52.61 264.92,-58.83 270.67,-62.82\"/>\n",
       "</g>\n",
       "<!-- \\n WITNESS_1 \\n Signature = c3645a4...5116308 \\n vKey = 56aa7a3...897263f \\n\\n -->\n",
       "<g id=\"node7\" class=\"node\">\n",
       "<title>\\n WITNESS_1 \\n Signature = c3645a4...5116308 \\n vKey = 56aa7a3...897263f \\n\\n</title>\n",
       "<polygon fill=\"lightgreen\" stroke=\"black\" points=\"542.5,-183.74 346.5,-183.74 346.5,-110.74 542.5,-110.74 542.5,-183.74\"/>\n",
       "<polyline fill=\"none\" stroke=\"black\" points=\"349.5,-148.74 352.5,-145.74\"/>\n",
       "<polyline fill=\"none\" stroke=\"black\" points=\"349.5,-145.74 352.5,-148.74\"/>\n",
       "<polyline fill=\"none\" stroke=\"black\" points=\"349.5,-113.74 539.5,-113.74\"/>\n",
       "<text text-anchor=\"middle\" x=\"444.5\" y=\"-158.54\" font-family=\"Times,serif\" font-size=\"14.00\"> WITNESS_1 </text>\n",
       "<text text-anchor=\"middle\" x=\"444.5\" y=\"-143.54\" font-family=\"Times,serif\" font-size=\"14.00\"> Signature = c3645a4...5116308 </text>\n",
       "<text text-anchor=\"middle\" x=\"444.5\" y=\"-128.54\" font-family=\"Times,serif\" font-size=\"14.00\"> vKey = 56aa7a3...897263f </text>\n",
       "</g>\n",
       "<!-- \\n WITNESS_2 \\n Signature = 8dfb6ca...3da0903 \\n vKey = c52161c...98a0d0c \\n\\n -->\n",
       "<g id=\"node8\" class=\"node\">\n",
       "<title>\\n WITNESS_2 \\n Signature = 8dfb6ca...3da0903 \\n vKey = c52161c...98a0d0c \\n\\n</title>\n",
       "<polygon fill=\"lightgreen\" stroke=\"black\" points=\"754,-183.74 561,-183.74 561,-110.74 754,-110.74 754,-183.74\"/>\n",
       "<polyline fill=\"none\" stroke=\"black\" points=\"564,-148.74 567,-145.74\"/>\n",
       "<polyline fill=\"none\" stroke=\"black\" points=\"564,-145.74 567,-148.74\"/>\n",
       "<polyline fill=\"none\" stroke=\"black\" points=\"564,-113.74 751,-113.74\"/>\n",
       "<text text-anchor=\"middle\" x=\"657.5\" y=\"-158.54\" font-family=\"Times,serif\" font-size=\"14.00\"> WITNESS_2 </text>\n",
       "<text text-anchor=\"middle\" x=\"657.5\" y=\"-143.54\" font-family=\"Times,serif\" font-size=\"14.00\"> Signature = 8dfb6ca...3da0903 </text>\n",
       "<text text-anchor=\"middle\" x=\"657.5\" y=\"-128.54\" font-family=\"Times,serif\" font-size=\"14.00\"> vKey = c52161c...98a0d0c </text>\n",
       "</g>\n",
       "</g>\n",
       "</svg>"
      ],
      "text/plain": [
       "<IPython.core.display.SVG object>"
      ]
     },
     "execution_count": 39,
     "metadata": {},
     "output_type": "execute_result"
    }
   ],
   "source": [
    "from IPython.display import SVG\n",
    "from cardano_py_tools import transaction as tx\n",
    "tx.vizualisation(txFile=\"tx-files/tx-one.signed\", saveTo=\"tx-files/tx-one.svg\")\n",
    "SVG(\"tx-files/tx-one.svg\")"
   ]
  },
  {
   "cell_type": "markdown",
   "metadata": {},
   "source": [
    "### Submit the transaction"
   ]
  },
  {
   "cell_type": "code",
   "execution_count": 42,
   "metadata": {},
   "outputs": [
    {
     "name": "stdout",
     "output_type": "stream",
     "text": [
      "Transaction successfully submitted.\n"
     ]
    }
   ],
   "source": [
    "%%bash\n",
    "# Submit the transaction\n",
    "cardano-cli transaction submit \\\n",
    "--tx-file tx-files/tx-one.signed \\\n",
    "--testnet-magic 1"
   ]
  },
  {
   "cell_type": "markdown",
   "metadata": {},
   "source": [
    "### Get the UTXO from the addresses you want to used for the payment "
   ]
  },
  {
   "cell_type": "code",
   "execution_count": 45,
   "metadata": {},
   "outputs": [
    {
     "name": "stdout",
     "output_type": "stream",
     "text": [
      "                           TxHash                                 TxIx        Amount\n",
      "--------------------------------------------------------------------------------------\n",
      "0055ed89ccd6a31b0a01b67a3d554ae9699b85ce12d3d37d9ce49ee02f0a4c67     0        9899162595 lovelace + TxOutDatumNone\n",
      "                           TxHash                                 TxIx        Amount\n",
      "--------------------------------------------------------------------------------------\n",
      "0be38e65bec5eebde5ca3308a75e5c8adcd1b184534b445c984185d7d6f9aee5     1        100000000 lovelace + TxOutDatumNone\n",
      "3e0f2493e7556968b9534e439111c08da761ac52783c7188b4b944068c0662ee     1        100000000 lovelace + TxOutDatumNone\n",
      "8d4f02739f9f921e7d50cd7765527242a1ca5bd37dc479a550af99463290d89f     1        100000000 lovelace + TxOutDatumNone\n",
      "c370cb076dc5893f548a8acf42fd507f4c21d667c036602e9092ca38f5fafbc5     1        9799824379 lovelace + TxOutDatumNone\n"
     ]
    }
   ],
   "source": [
    "%%bash\n",
    "# Djessy wallet 1\n",
    "cardano-cli query utxo \\\n",
    "--address $(cat /users/$(whoami)/testnet/priv/wallet/Lola/lola.addr) \\\n",
    "--testnet-magic 1\n",
    "\n",
    "# Drake wallet 2\n",
    "cardano-cli query utxo \\\n",
    "--address $(cat /users/$(whoami)/testnet/priv/wallet/Drake/drake.addr) \\\n",
    "--testnet-magic 1"
   ]
  },
  {
   "cell_type": "markdown",
   "metadata": {},
   "source": [
    "## 2) Build the transaction using the command build-raw\n",
    "\n",
    "In this transaction we will spend funds from one wallet that we control(Lola wallet) and the wallet of someone else (Drake wallet).  \n",
    "The transaction will be build off-chain using the command `cardano-cli transaction build-raw`."
   ]
  },
  {
   "cell_type": "code",
   "execution_count": 61,
   "metadata": {},
   "outputs": [],
   "source": [
    "%%bash\n",
    "UTXO_IN1=0055ed89ccd6a31b0a01b67a3d554ae9699b85ce12d3d37d9ce49ee02f0a4c67#0\n",
    "UTXO_IN2=3e0f2493e7556968b9534e439111c08da761ac52783c7188b4b944068c0662ee#1\n",
    "RECEVEIR_ADDR=$(cat /users/$(whoami)/testnet/priv/wallet/Djessy/djessy.addr)\n",
    "AMOUNT_TO_SENT=$((9899162595 + 100000000)) \n",
    "\n",
    "# Build the draft transaction\n",
    "cardano-cli transaction build-raw \\\n",
    "--fee 0 \\\n",
    "--tx-in $UTXO_IN1 \\\n",
    "--tx-in $UTXO_IN2 \\\n",
    "--tx-out $RECEVEIR_ADDR+0 \\\n",
    "--out-file tx-files/tx-two.draft\n",
    "\n",
    "# Save the protocol parameters\n",
    "cardano-cli query protocol-parameters \\\n",
    "--testnet-magic 1 \\\n",
    "--out-file tx-files/protocol-params.json\n",
    "\n",
    "# Calculate the fees\n",
    "FEE=$(echo $(cardano-cli transaction calculate-min-fee \\\n",
    "--protocol-params-file tx-files/protocol-params.json \\\n",
    "--tx-body-file tx-files/tx-two.draft \\\n",
    "--tx-in-count 2 \\\n",
    "--tx-out-count 1 \\\n",
    "--witness-count 2) | cut -d ' ' -f1)\n",
    "\n",
    "# Build the transaction\n",
    "cardano-cli transaction build-raw \\\n",
    "--fee $FEE \\\n",
    "--tx-in $UTXO_IN1 \\\n",
    "--tx-in $UTXO_IN2 \\\n",
    "--tx-out $RECEVEIR_ADDR+$(($AMOUNT_TO_SENT - $FEE)) \\\n",
    "--out-file tx-files/tx-two.raw\n",
    "\n",
    "# Sign the transaction with the Lola wallet private key\n",
    "cardano-cli transaction witness \\\n",
    "--signing-key-file /users/$(whoami)/testnet/priv/wallet/Lola/lola.addr.skey \\\n",
    "--tx-body-file tx-files/tx-two.raw \\\n",
    "--out-file tx-files/djessyW1.witness\n",
    "\n",
    "# Here, in the real life, you have to know the other person (Drake wallet). \n",
    "# You have to send him the transaction for him to signed it and send it back the signed file.\n",
    "cardano-cli transaction witness \\\n",
    "--signing-key-file /users/$(whoami)/testnet/priv/wallet/Drake/drake.addr.skey \\\n",
    "--tx-body-file tx-files/tx-two.raw \\\n",
    "--out-file tx-files/djessyW2.witness\n",
    "\n",
    "# Assemble the transaction \n",
    "cardano-cli transaction assemble \\\n",
    "--tx-body-file tx-files/tx-two.raw \\\n",
    "--witness-file tx-files/djessyW1.witness \\\n",
    "--witness-file tx-files/djessyW2.witness \\\n",
    "--out-file tx-files/tx-two.signed"
   ]
  },
  {
   "cell_type": "markdown",
   "metadata": {},
   "source": [
    "### Flow chart of the transaction"
   ]
  },
  {
   "cell_type": "code",
   "execution_count": 62,
   "metadata": {},
   "outputs": [
    {
     "data": {
      "image/svg+xml": [
       "<svg xmlns=\"http://www.w3.org/2000/svg\" xmlns:xlink=\"http://www.w3.org/1999/xlink\" width=\"731pt\" height=\"273pt\" viewBox=\"0.00 0.00 730.50 272.74\">\n",
       "<g id=\"graph0\" class=\"graph\" transform=\"scale(1 1) rotate(0) translate(4 268.74)\">\n",
       "<title>G</title>\n",
       "<polygon fill=\"white\" stroke=\"none\" points=\"-4,4 -4,-268.74 726.5,-268.74 726.5,4 -4,4\"/>\n",
       "<!-- UTXO_IN_1 \\n 0055ed8...a4c67#0 -->\n",
       "<g id=\"node1\" class=\"node\">\n",
       "<title>UTXO_IN_1 \\n 0055ed8...a4c67#0</title>\n",
       "<polygon fill=\"none\" stroke=\"black\" points=\"170,-264.74 46,-264.74 46,-226.74 170,-226.74 170,-264.74\"/>\n",
       "<text text-anchor=\"middle\" x=\"108\" y=\"-249.54\" font-family=\"Times,serif\" font-size=\"14.00\">UTXO_IN_1 </text>\n",
       "<text text-anchor=\"middle\" x=\"108\" y=\"-234.54\" font-family=\"Times,serif\" font-size=\"14.00\"> 0055ed8...a4c67#0</text>\n",
       "</g>\n",
       "<!-- TRANSACTION \n",
       " \n",
       " • Network: Testnet \n",
       " &#160;• UTXO amount: 9999.162595 ₳ None \n",
       "\n",
       " -->\n",
       "<g id=\"node5\" class=\"node\">\n",
       "<title>TRANSACTION \n",
       " \n",
       " • Network: Testnet \n",
       "  • UTXO amount: 9999.162595 ₳ None \n",
       "\n",
       "</title>\n",
       "<polygon fill=\"none\" stroke=\"black\" points=\"300.5,-189.24 59.5,-189.24 55.5,-185.24 55.5,-105.24 296.5,-105.24 300.5,-109.24 300.5,-189.24\"/>\n",
       "<polyline fill=\"none\" stroke=\"black\" points=\"296.5,-185.24 55.5,-185.24\"/>\n",
       "<polyline fill=\"none\" stroke=\"black\" points=\"296.5,-185.24 296.5,-105.24\"/>\n",
       "<polyline fill=\"none\" stroke=\"black\" points=\"296.5,-185.24 300.5,-189.24\"/>\n",
       "<text text-anchor=\"middle\" x=\"178\" y=\"-174.04\" font-family=\"Times,serif\" font-size=\"14.00\">TRANSACTION </text>\n",
       "<text text-anchor=\"middle\" x=\"178\" y=\"-159.04\" font-family=\"Times,serif\" font-size=\"14.00\"> </text>\n",
       "<text text-anchor=\"middle\" x=\"178\" y=\"-144.04\" font-family=\"Times,serif\" font-size=\"14.00\"> • Network: Testnet </text>\n",
       "<text text-anchor=\"middle\" x=\"178\" y=\"-129.04\" font-family=\"Times,serif\" font-size=\"14.00\">  • UTXO amount: 9999.162595 ₳ None </text>\n",
       "</g>\n",
       "<!-- UTXO_IN_1 \\n 0055ed8...a4c67#0&#45;&gt;TRANSACTION \n",
       " \n",
       " • Network: Testnet \n",
       " &#160;• UTXO amount: 9999.162595 ₳ None \n",
       "\n",
       " -->\n",
       "<g id=\"edge1\" class=\"edge\">\n",
       "<title>UTXO_IN_1 \\n 0055ed8...a4c67#0-&gt;TRANSACTION \n",
       " \n",
       " • Network: Testnet \n",
       "  • UTXO amount: 9999.162595 ₳ None \n",
       "\n",
       "</title>\n",
       "<path fill=\"none\" stroke=\"black\" d=\"M121.17,-226.59C127.17,-218.32 134.59,-208.08 142.07,-197.77\"/>\n",
       "<polygon fill=\"black\" stroke=\"black\" points=\"145.02,-199.66 148.06,-189.51 139.35,-195.55 145.02,-199.66\"/>\n",
       "</g>\n",
       "<!-- UTXO_IN_2 \\n 3e0f249...662ee#1 -->\n",
       "<g id=\"node2\" class=\"node\">\n",
       "<title>UTXO_IN_2 \\n 3e0f249...662ee#1</title>\n",
       "<polygon fill=\"none\" stroke=\"black\" points=\"310,-264.74 188,-264.74 188,-226.74 310,-226.74 310,-264.74\"/>\n",
       "<text text-anchor=\"middle\" x=\"249\" y=\"-249.54\" font-family=\"Times,serif\" font-size=\"14.00\">UTXO_IN_2 </text>\n",
       "<text text-anchor=\"middle\" x=\"249\" y=\"-234.54\" font-family=\"Times,serif\" font-size=\"14.00\"> 3e0f249...662ee#1</text>\n",
       "</g>\n",
       "<!-- UTXO_IN_2 \\n 3e0f249...662ee#1&#45;&gt;TRANSACTION \n",
       " \n",
       " • Network: Testnet \n",
       " &#160;• UTXO amount: 9999.162595 ₳ None \n",
       "\n",
       " -->\n",
       "<g id=\"edge2\" class=\"edge\">\n",
       "<title>UTXO_IN_2 \\n 3e0f249...662ee#1-&gt;TRANSACTION \n",
       " \n",
       " • Network: Testnet \n",
       "  • UTXO amount: 9999.162595 ₳ None \n",
       "\n",
       "</title>\n",
       "<path fill=\"none\" stroke=\"black\" d=\"M235.65,-226.59C229.56,-218.32 222.03,-208.08 214.44,-197.77\"/>\n",
       "<polygon fill=\"black\" stroke=\"black\" points=\"217.11,-195.5 208.37,-189.51 211.48,-199.64 217.11,-195.5\"/>\n",
       "</g>\n",
       "<!-- ADDR_1 \\n 60484a3a1867...ca00170b3f36 -->\n",
       "<g id=\"node3\" class=\"node\">\n",
       "<title>ADDR_1 \\n 60484a3a1867...ca00170b3f36</title>\n",
       "<text text-anchor=\"middle\" x=\"94\" y=\"-30.67\" font-family=\"Times,serif\" font-size=\"14.00\">ADDR_1 </text>\n",
       "<text text-anchor=\"middle\" x=\"94\" y=\"-15.67\" font-family=\"Times,serif\" font-size=\"14.00\"> 60484a3a1867...ca00170b3f36</text>\n",
       "</g>\n",
       "<!-- TX_FEES \\n0.178965 ₳ -->\n",
       "<g id=\"node4\" class=\"node\">\n",
       "<title>TX_FEES \\n0.178965 ₳</title>\n",
       "<ellipse fill=\"lightblue\" stroke=\"black\" cx=\"263\" cy=\"-26.87\" rx=\"57.05\" ry=\"26.74\"/>\n",
       "<text text-anchor=\"middle\" x=\"263\" y=\"-30.67\" font-family=\"Times,serif\" font-size=\"14.00\">TX_FEES </text>\n",
       "<text text-anchor=\"middle\" x=\"263\" y=\"-15.67\" font-family=\"Times,serif\" font-size=\"14.00\">0.178965 ₳</text>\n",
       "</g>\n",
       "<!-- TRANSACTION \n",
       " \n",
       " • Network: Testnet \n",
       " &#160;• UTXO amount: 9999.162595 ₳ None \n",
       "\n",
       "&#45;&gt;ADDR_1 \\n 60484a3a1867...ca00170b3f36 -->\n",
       "<g id=\"edge3\" class=\"edge\">\n",
       "<title>TRANSACTION \n",
       " \n",
       " • Network: Testnet \n",
       "  • UTXO amount: 9999.162595 ₳ None \n",
       "\n",
       "-&gt;ADDR_1 \\n 60484a3a1867...ca00170b3f36</title>\n",
       "<path fill=\"none\" stroke=\"black\" d=\"M148.86,-105.17C136.89,-88.32 123.39,-69.29 112.78,-54.33\"/>\n",
       "<polygon fill=\"black\" stroke=\"black\" points=\"115.53,-52.17 106.89,-46.04 109.83,-56.22 115.53,-52.17\"/>\n",
       "<text text-anchor=\"middle\" x=\"173.5\" y=\"-75.54\" font-family=\"Times,serif\" font-size=\"14.00\">9998.98363 ₳</text>\n",
       "</g>\n",
       "<!-- TRANSACTION \n",
       " \n",
       " • Network: Testnet \n",
       " &#160;• UTXO amount: 9999.162595 ₳ None \n",
       "\n",
       "&#45;&gt;TX_FEES \\n0.178965 ₳ -->\n",
       "<g id=\"edge4\" class=\"edge\">\n",
       "<title>TRANSACTION \n",
       " \n",
       " • Network: Testnet \n",
       "  • UTXO amount: 9999.162595 ₳ None \n",
       "\n",
       "-&gt;TX_FEES \\n0.178965 ₳</title>\n",
       "<path fill=\"none\" stroke=\"black\" d=\"M207.49,-105.17C217.89,-90.68 229.45,-74.59 239.31,-60.86\"/>\n",
       "<polygon fill=\"black\" stroke=\"black\" points=\"242.22,-62.81 245.21,-52.65 236.53,-58.73 242.22,-62.81\"/>\n",
       "</g>\n",
       "<!-- \\n WITNESS_1 \\n Signature = 550db6d...fd1f408 \\n vKey = 6361910...43d6474 \\n\\n -->\n",
       "<g id=\"node6\" class=\"node\">\n",
       "<title>\\n WITNESS_1 \\n Signature = 550db6d...fd1f408 \\n vKey = 6361910...43d6474 \\n\\n</title>\n",
       "<polygon fill=\"lightgreen\" stroke=\"black\" points=\"511.5,-183.74 318.5,-183.74 318.5,-110.74 511.5,-110.74 511.5,-183.74\"/>\n",
       "<polyline fill=\"none\" stroke=\"black\" points=\"321.5,-148.74 324.5,-145.74\"/>\n",
       "<polyline fill=\"none\" stroke=\"black\" points=\"321.5,-145.74 324.5,-148.74\"/>\n",
       "<polyline fill=\"none\" stroke=\"black\" points=\"321.5,-113.74 508.5,-113.74\"/>\n",
       "<text text-anchor=\"middle\" x=\"415\" y=\"-158.54\" font-family=\"Times,serif\" font-size=\"14.00\"> WITNESS_1 </text>\n",
       "<text text-anchor=\"middle\" x=\"415\" y=\"-143.54\" font-family=\"Times,serif\" font-size=\"14.00\"> Signature = 550db6d...fd1f408 </text>\n",
       "<text text-anchor=\"middle\" x=\"415\" y=\"-128.54\" font-family=\"Times,serif\" font-size=\"14.00\"> vKey = 6361910...43d6474 </text>\n",
       "</g>\n",
       "<!-- \\n WITNESS_2 \\n Signature = e2064e9...0cfb805 \\n vKey = d1d20fb...4285642 \\n\\n -->\n",
       "<g id=\"node7\" class=\"node\">\n",
       "<title>\\n WITNESS_2 \\n Signature = e2064e9...0cfb805 \\n vKey = d1d20fb...4285642 \\n\\n</title>\n",
       "<polygon fill=\"lightgreen\" stroke=\"black\" points=\"722.5,-183.74 529.5,-183.74 529.5,-110.74 722.5,-110.74 722.5,-183.74\"/>\n",
       "<polyline fill=\"none\" stroke=\"black\" points=\"532.5,-148.74 535.5,-145.74\"/>\n",
       "<polyline fill=\"none\" stroke=\"black\" points=\"532.5,-145.74 535.5,-148.74\"/>\n",
       "<polyline fill=\"none\" stroke=\"black\" points=\"532.5,-113.74 719.5,-113.74\"/>\n",
       "<text text-anchor=\"middle\" x=\"626\" y=\"-158.54\" font-family=\"Times,serif\" font-size=\"14.00\"> WITNESS_2 </text>\n",
       "<text text-anchor=\"middle\" x=\"626\" y=\"-143.54\" font-family=\"Times,serif\" font-size=\"14.00\"> Signature = e2064e9...0cfb805 </text>\n",
       "<text text-anchor=\"middle\" x=\"626\" y=\"-128.54\" font-family=\"Times,serif\" font-size=\"14.00\"> vKey = d1d20fb...4285642 </text>\n",
       "</g>\n",
       "</g>\n",
       "</svg>"
      ],
      "text/plain": [
       "<IPython.core.display.SVG object>"
      ]
     },
     "execution_count": 62,
     "metadata": {},
     "output_type": "execute_result"
    }
   ],
   "source": [
    "from IPython.display import SVG\n",
    "from cardano_py_tools import transaction as tx\n",
    "tx.vizualisation(txFile=\"tx-files/tx-two.signed\", saveTo=\"tx-files/tx-two.svg\")\n",
    "SVG(\"tx-files/tx-two.svg\")"
   ]
  },
  {
   "cell_type": "markdown",
   "metadata": {},
   "source": [
    "### Submit the transaction"
   ]
  },
  {
   "cell_type": "code",
   "execution_count": 63,
   "metadata": {},
   "outputs": [
    {
     "name": "stdout",
     "output_type": "stream",
     "text": [
      "Transaction successfully submitted.\n"
     ]
    }
   ],
   "source": [
    "%%bash\n",
    "# Submit the transaction\n",
    "cardano-cli transaction submit \\\n",
    "--tx-file tx-files/tx-two.signed \\\n",
    "--testnet-magic 1"
   ]
  },
  {
   "cell_type": "code",
   "execution_count": 64,
   "metadata": {},
   "outputs": [
    {
     "name": "stdout",
     "output_type": "stream",
     "text": [
      "                           TxHash                                 TxIx        Amount\n",
      "--------------------------------------------------------------------------------------\n",
      "b74048f802c6001998cc544583d9473cd7e58adb79eac49f4da000e03c342a8b     0        9998983630 lovelace + TxOutDatumNone\n"
     ]
    }
   ],
   "source": [
    "%%bash\n",
    "# Djessy wallet 1\n",
    "cardano-cli query utxo \\\n",
    "--address $(cat /users/$(whoami)/testnet/priv/wallet/Djessy/djessy.addr) \\\n",
    "--testnet-magic 1"
   ]
  },
  {
   "cell_type": "code",
   "execution_count": 65,
   "metadata": {},
   "outputs": [
    {
     "name": "stdout",
     "output_type": "stream",
     "text": [
      "[jupytext] Reading how-to-create-a-multi-witness-tx.ipynb in format ipynb\n",
      "[jupytext] Writing how-to-create-a-multi-witness-tx.md\n"
     ]
    }
   ],
   "source": [
    "!jupytext --to markdown how-to-create-a-multi-witness-tx.ipynb"
   ]
  },
  {
   "cell_type": "code",
   "execution_count": null,
   "metadata": {},
   "outputs": [],
   "source": []
  }
 ],
 "metadata": {
  "kernelspec": {
   "display_name": "Python 3",
   "language": "python",
   "name": "python3"
  },
  "language_info": {
   "codemirror_mode": {
    "name": "ipython",
    "version": 3
   },
   "file_extension": ".py",
   "mimetype": "text/x-python",
   "name": "python",
   "nbconvert_exporter": "python",
   "pygments_lexer": "ipython3",
   "version": "3.8.0"
  }
 },
 "nbformat": 4,
 "nbformat_minor": 4
}
