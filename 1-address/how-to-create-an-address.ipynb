{
 "cells": [
  {
   "cell_type": "markdown",
   "metadata": {},
   "source": [
    "# How to create an address\n",
    "\n",
    "Examples on how to create different kinds of addresses on the cardano blockchain."
   ]
  },
  {
   "cell_type": "markdown",
   "metadata": {},
   "source": [
    "**Table of contents**\n",
    "- [Create a payment address with no staking right](#Create-a-payment-address-with-no-staking-right)\n",
    "- [Create a payment address with staking right](#Create-a-payment-address-with-staking-right)"
   ]
  },
  {
   "cell_type": "markdown",
   "metadata": {},
   "source": [
    "### Create the wallet directory "
   ]
  },
  {
   "cell_type": "code",
   "execution_count": null,
   "metadata": {},
   "outputs": [],
   "source": [
    "%%bash\n",
    "walletName=\"Drake\"\n",
    "walletDir=/users/$(whoami)/testnet/priv/wallet/$walletName\n",
    "mkdir -p $walletDir"
   ]
  },
  {
   "cell_type": "markdown",
   "metadata": {},
   "source": [
    "# 1) Create a payment address with no staking right\n",
    "\n",
    "An addresse with no staking right have only a payment part, so it mean that the owner of the address have the control of the funds but not have no staking rights of funds."
   ]
  },
  {
   "cell_type": "markdown",
   "metadata": {},
   "source": [
    "### Create the address "
   ]
  },
  {
   "cell_type": "code",
   "execution_count": 99,
   "metadata": {},
   "outputs": [
    {
     "name": "stdout",
     "output_type": "stream",
     "text": [
      "addr_test1vpyy5wscvu466yavkjjzdxh5nuk4xk5uz32e9jsqzu9n7dslhpwut\n",
      "60484a3a18672bad13acb4a4269af49f2d535a9c145592ca00170b3f36\n"
     ]
    }
   ],
   "source": [
    "%%bash\n",
    "walletDir=/users/$(whoami)/testnet/priv/wallet/drake\n",
    "\n",
    "# Create the verification and signing key files for the payment address \n",
    "cardano-cli address key-gen \\\n",
    "--verification-key-file $walletDir/djessy.addr.vkey \\\n",
    "--signing-key-file $walletDir/djessy.addr.skey \\\n",
    "\n",
    "# Build the payment address\n",
    "cardano-cli address build \\\n",
    "--payment-verification-key-file $walletDir/djessy.addr.vkey \\\n",
    "--testnet-magic 1 \\\n",
    "--out-file $walletDir/djessy.addr\n",
    "\n",
    "# Bech32 encoded address\n",
    "echo $(cat $walletDir/djessy.addr) \n",
    "# Bech32 decoded address (first number indicate the type of address (type6))\n",
    "echo $(bech32 <<< $(cat $walletDir/djessy.addr))"
   ]
  },
  {
   "cell_type": "markdown",
   "metadata": {},
   "source": [
    "### Send and get the UTXOs from the address\n",
    "\n",
    "Use [cardano faucette](https://docs.cardano.org/cardano-testnet/tools/faucet) to send tADA to the address."
   ]
  },
  {
   "cell_type": "code",
   "execution_count": 90,
   "metadata": {},
   "outputs": [
    {
     "name": "stdout",
     "output_type": "stream",
     "text": [
      "                           TxHash                                 TxIx        Amount\n",
      "--------------------------------------------------------------------------------------\n",
      "9088035211336c207022fad02f9b938d08ce4e0f2d2ca969c310ec2edcaaf714     0        10000000000 lovelace + TxOutDatumNone\n"
     ]
    }
   ],
   "source": [
    "%%bash\n",
    "walletDir=$(cat /users/$(whoami)/testnet/priv/wallet/drake/djessy.addr)\n",
    "cardano-cli query utxo --address $walletDir --testnet-magic 1"
   ]
  },
  {
   "cell_type": "markdown",
   "metadata": {},
   "source": [
    "# 2) Create a payment address with staking right\n",
    "\n",
    "The owner of this address will have the control of the funds and the staking right."
   ]
  },
  {
   "cell_type": "markdown",
   "metadata": {},
   "source": [
    "### Create the address"
   ]
  },
  {
   "cell_type": "code",
   "execution_count": 100,
   "metadata": {},
   "outputs": [
    {
     "name": "stdout",
     "output_type": "stream",
     "text": [
      "addr_test1qz83jdf92qc3ztjhsa8qxcwsccsj27gltd9x5gry7gswx74d28swvcn7t7yysu0gdeavmrfge4ktqva7eyewzde0av3spdpec5\n",
      "008f1935255031112e57874e0361d0c62125791f5b4a6a2064f220e37aad51e0e6627e5f884871e86e7acd8d28cd6cb033bec932e1372feb23\n"
     ]
    }
   ],
   "source": [
    "%%bash\n",
    "walletDir=/users/$(whoami)/testnet/priv/wallet/drake\n",
    "\n",
    "# Create the verification and signing key files for the payment address \n",
    "cardano-cli address key-gen \\\n",
    "--verification-key-file $walletDir/djessy-payment.addr.vkey \\\n",
    "--signing-key-file $walletDir/djessy-payment.addr.skey \\\n",
    "\n",
    "# Create the verification and signing key files for the stake address  \n",
    "cardano-cli stake-address key-gen \\\n",
    "--verification-key-file $walletDir/djessy-stake.addr.vkey \\\n",
    "--signing-key-file $walletDir/djessy-stake.addr.skey \\\n",
    "\n",
    "# Build the payment address\n",
    "cardano-cli address build \\\n",
    "--payment-verification-key-file $walletDir/djessy-payment.addr.vkey \\\n",
    "--stake-verification-key-file $walletDir/djessy-stake.addr.vkey \\\n",
    "--testnet-magic 1 \\\n",
    "--out-file $walletDir/djessy.addr2\n",
    "\n",
    "# Bech32 encoded address\n",
    "echo $(cat $walletDir/djessy.addr2) \n",
    "# Bech32 decoded address (first number indicate the type of address (type 0))\n",
    "echo $(bech32 <<< $(cat $walletDir/djessy.addr2))"
   ]
  },
  {
   "cell_type": "markdown",
   "metadata": {},
   "source": [
    "### Get the UTXOs from the address"
   ]
  },
  {
   "cell_type": "code",
   "execution_count": 105,
   "metadata": {},
   "outputs": [
    {
     "name": "stdout",
     "output_type": "stream",
     "text": [
      "                           TxHash                                 TxIx        Amount\n",
      "--------------------------------------------------------------------------------------\n"
     ]
    }
   ],
   "source": [
    "%%bash\n",
    "walletDir=$(cat /users/$(whoami)/testnet/priv/wallet/drake/djessy.addr2)\n",
    "cardano-cli query utxo --address $walletDir --testnet-magic 1"
   ]
  },
  {
   "cell_type": "code",
   "execution_count": 110,
   "metadata": {},
   "outputs": [
    {
     "name": "stdout",
     "output_type": "stream",
     "text": [
      "[jupytext] Reading how-to-create-an-address.ipynb in format ipynb\n",
      "[jupytext] Writing how-to-create-an-address.md\n"
     ]
    }
   ],
   "source": [
    "!jupytext --to markdown how-to-create-an-address.ipynb"
   ]
  },
  {
   "cell_type": "code",
   "execution_count": null,
   "metadata": {},
   "outputs": [],
   "source": []
  }
 ],
 "metadata": {
  "kernelspec": {
   "display_name": "Python 3",
   "language": "python",
   "name": "python3"
  },
  "language_info": {
   "codemirror_mode": {
    "name": "ipython",
    "version": 3
   },
   "file_extension": ".py",
   "mimetype": "text/x-python",
   "name": "python",
   "nbconvert_exporter": "python",
   "pygments_lexer": "ipython3",
   "version": "3.8.0"
  }
 },
 "nbformat": 4,
 "nbformat_minor": 4
}
