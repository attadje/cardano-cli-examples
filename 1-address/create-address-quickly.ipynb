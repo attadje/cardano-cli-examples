{
 "cells": [
  {
   "cell_type": "markdown",
   "metadata": {
    "tags": []
   },
   "source": [
    "# Create a simple payment address (no staking part)"
   ]
  },
  {
   "cell_type": "code",
   "execution_count": 1,
   "metadata": {},
   "outputs": [
    {
     "name": "stdout",
     "output_type": "stream",
     "text": [
      "addr_test1vznp5qjyq8r4s9jqws87ph82dm7deh9sgsmhtl7ynwvjp9s0twnhw\n",
      "60a61a024401c7581640740fe0dcea6efcdcdcb0443775ffc49b992096\n"
     ]
    }
   ],
   "source": [
    "%%bash\n",
    "walletName=\"Djessy-Wallet2\"\n",
    "addrName=\"djessy\"\n",
    "walletDir=/users/$(whoami)/testnet/priv/wallet/$walletName\n",
    "mkdir -p $walletDir\n",
    "\n",
    "# Create the verification and signing key files for the payment address \n",
    "cardano-cli address key-gen \\\n",
    "--verification-key-file $walletDir/$addrName.addr.vkey \\\n",
    "--signing-key-file $walletDir/$addrName.addr.skey \\\n",
    "\n",
    "# Build the payment address\n",
    "cardano-cli address build \\\n",
    "--payment-verification-key-file $walletDir/$addrName.addr.vkey \\\n",
    "--testnet-magic 1 \\\n",
    "--out-file $walletDir/$addrName.addr\n",
    "\n",
    "# Bech32 encoded address\n",
    "echo $(cat $walletDir/$addrName.addr) \n",
    "# Bech32 decoded address (first number indicate the type of address (type6))\n",
    "echo $(bech32 <<< $(cat $walletDir/$addrName.addr))"
   ]
  },
  {
   "cell_type": "markdown",
   "metadata": {},
   "source": [
    "# 1) Create a payment address with no staking right\n",
    "\n",
    "An addresse with no staking right have only a payment part, so it mean that the owner of the address have the control of the funds but not have no staking rights of funds."
   ]
  },
  {
   "cell_type": "markdown",
   "metadata": {},
   "source": [
    "### Create the address "
   ]
  },
  {
   "cell_type": "code",
   "execution_count": 99,
   "metadata": {},
   "outputs": [
    {
     "name": "stdout",
     "output_type": "stream",
     "text": [
      "addr_test1vpyy5wscvu466yavkjjzdxh5nuk4xk5uz32e9jsqzu9n7dslhpwut\n",
      "60484a3a18672bad13acb4a4269af49f2d535a9c145592ca00170b3f36\n"
     ]
    }
   ],
   "source": [
    "%%bash\n",
    "walletDir=/users/$(whoami)/testnet/priv/wallet/drake\n",
    "\n",
    "# Create the verification and signing key files for the payment address \n",
    "cardano-cli address key-gen \\\n",
    "--verification-key-file $walletDir/drake.addr.vkey \\\n",
    "--signing-key-file $walletDir/drake.addr.skey \\\n",
    "\n",
    "# Build the payment address\n",
    "cardano-cli address build \\\n",
    "--payment-verification-key-file $walletDir/drake.addr.vkey \\\n",
    "--testnet-magic 1 \\\n",
    "--out-file $walletDir/drake.addr\n",
    "\n",
    "# Bech32 encoded address\n",
    "echo $(cat $walletDir/drake.addr) \n",
    "# Bech32 decoded address (first number indicate the type of address (type6))\n",
    "echo $(bech32 <<< $(cat $walletDir/drake.addr))"
   ]
  },
  {
   "cell_type": "markdown",
   "metadata": {},
   "source": [
    "### Send and get the UTXOs from the address\n",
    "\n",
    "Use [cardano faucette](https://docs.cardano.org/cardano-testnet/tools/faucet) to send tADA to the address."
   ]
  },
  {
   "cell_type": "code",
   "execution_count": 90,
   "metadata": {},
   "outputs": [
    {
     "name": "stdout",
     "output_type": "stream",
     "text": [
      "                           TxHash                                 TxIx        Amount\n",
      "--------------------------------------------------------------------------------------\n",
      "9088035211336c207022fad02f9b938d08ce4e0f2d2ca969c310ec2edcaaf714     0        10000000000 lovelace + TxOutDatumNone\n"
     ]
    }
   ],
   "source": [
    "%%bash\n",
    "walletDir=$(cat /users/$(whoami)/testnet/priv/wallet/drake/drake.addr)\n",
    "cardano-cli query utxo --address $walletDir --testnet-magic 1"
   ]
  },
  {
   "cell_type": "markdown",
   "metadata": {},
   "source": [
    "# 2) Create a payment address with staking right\n",
    "\n",
    "The owner of this address will have the control of the funds and the staking right."
   ]
  },
  {
   "cell_type": "markdown",
   "metadata": {},
   "source": [
    "### Create the address"
   ]
  },
  {
   "cell_type": "code",
   "execution_count": 100,
   "metadata": {},
   "outputs": [
    {
     "name": "stdout",
     "output_type": "stream",
     "text": [
      "addr_test1qz83jdf92qc3ztjhsa8qxcwsccsj27gltd9x5gry7gswx74d28swvcn7t7yysu0gdeavmrfge4ktqva7eyewzde0av3spdpec5\n",
      "008f1935255031112e57874e0361d0c62125791f5b4a6a2064f220e37aad51e0e6627e5f884871e86e7acd8d28cd6cb033bec932e1372feb23\n"
     ]
    }
   ],
   "source": [
    "%%bash\n",
    "walletDir=/users/$(whoami)/testnet/priv/wallet/drake\n",
    "\n",
    "# Create the verification and signing key files for the payment address \n",
    "cardano-cli address key-gen \\\n",
    "--verification-key-file $walletDir/drake-payment.addr.vkey \\\n",
    "--signing-key-file $walletDir/drake-payment.addr.skey \\\n",
    "\n",
    "# Create the verification and signing key files for the stake address  \n",
    "cardano-cli stake-address key-gen \\\n",
    "--verification-key-file $walletDir/drake-stake.addr.vkey \\\n",
    "--signing-key-file $walletDir/drake-stake.addr.skey \\\n",
    "\n",
    "# Build the payment address\n",
    "cardano-cli address build \\\n",
    "--payment-verification-key-file $walletDir/drake-payment.addr.vkey \\\n",
    "--stake-verification-key-file $walletDir/drake-stake.addr.vkey \\\n",
    "--testnet-magic 1 \\\n",
    "--out-file $walletDir/drake.addr2\n",
    "\n",
    "# Bech32 encoded address\n",
    "echo $(cat $walletDir/drake.addr2) \n",
    "# Bech32 decoded address (first number indicate the type of address (type 0))\n",
    "echo $(bech32 <<< $(cat $walletDir/drake.addr2))"
   ]
  },
  {
   "cell_type": "markdown",
   "metadata": {},
   "source": [
    "### Get the UTXOs from the address"
   ]
  },
  {
   "cell_type": "code",
   "execution_count": 116,
   "metadata": {},
   "outputs": [
    {
     "name": "stdout",
     "output_type": "stream",
     "text": [
      "                           TxHash                                 TxIx        Amount\n",
      "--------------------------------------------------------------------------------------\n",
      "a9ed1f9dd03fb6226f7ceab1c17e8dfb61ae0fadef7a51c0e53b672914676ca6     0        10000000000 lovelace + TxOutDatumNone\n"
     ]
    }
   ],
   "source": [
    "%%bash\n",
    "walletDir=$(cat /users/$(whoami)/testnet/priv/wallet/drake/drake.addr2)\n",
    "cardano-cli query utxo --address $walletDir --testnet-magic 1"
   ]
  },
  {
   "cell_type": "code",
   "execution_count": 112,
   "metadata": {},
   "outputs": [
    {
     "name": "stdout",
     "output_type": "stream",
     "text": [
      "[jupytext] Reading how-to-create-an-address.ipynb in format ipynb\n",
      "[jupytext] Writing how-to-create-an-address.md\n"
     ]
    }
   ],
   "source": [
    "!jupytext --to markdown how-to-create-an-address.ipynb"
   ]
  },
  {
   "cell_type": "code",
   "execution_count": null,
   "metadata": {},
   "outputs": [],
   "source": []
  }
 ],
 "metadata": {
  "kernelspec": {
   "display_name": "Python 3",
   "language": "python",
   "name": "python3"
  },
  "language_info": {
   "codemirror_mode": {
    "name": "ipython",
    "version": 3
   },
   "file_extension": ".py",
   "mimetype": "text/x-python",
   "name": "python",
   "nbconvert_exporter": "python",
   "pygments_lexer": "ipython3",
   "version": "3.8.0"
  }
 },
 "nbformat": 4,
 "nbformat_minor": 4
}
