{
 "cells": [
  {
   "cell_type": "markdown",
   "metadata": {},
   "source": [
    "# How to create a multi-sign transaction "
   ]
  },
  {
   "cell_type": "markdown",
   "metadata": {},
   "source": [
    "A multi-sign transaction is like a shared account.  \n",
    "The funds locked in the account can only be spend if the transaction is signed by the owners. "
   ]
  },
  {
   "cell_type": "markdown",
   "metadata": {},
   "source": [
    "### 1) Create the Native Script \n",
    "\n",
    "The funds locked in a script of type `all` can only be spent if all the owners sign the transaction."
   ]
  },
  {
   "cell_type": "code",
   "execution_count": 47,
   "metadata": {},
   "outputs": [
    {
     "name": "stdout",
     "output_type": "stream",
     "text": [
      "{\n",
      "  \"type\": \"all\",\n",
      "  \"scripts\":\n",
      "  [\n",
      "    {\n",
      "      \"type\": \"sig\",\n",
      "      \"keyHash\": \"484a3a18672bad13acb4a4269af49f2d535a9c145592ca00170b3f36\"\n",
      "    },\n",
      "    {\n",
      "      \"type\": \"sig\",\n",
      "      \"keyHash\": \"8f1935255031112e57874e0361d0c62125791f5b4a6a2064f220e37a\"\n",
      "    }\n",
      "  ]\n",
      "}\n"
     ]
    }
   ],
   "source": [
    "%%bash\n",
    "# get the verification key from the owner 1 (Djessy)\n",
    "vKeyOwner1=/users/$(whoami)/testnet/priv/wallet/Djessy/djessy.addr.vkey\n",
    "keyHashOwner1=$(cardano-cli address key-hash --payment-verification-key-file $vKeyOwner1)\n",
    "\n",
    "# get the verification key from the owner 2 (Drake)\n",
    "vKeyOwner2=/users/$(whoami)/testnet/priv/wallet/Drake/drake.addr.vkey\n",
    "keyHashOwner2=$(cardano-cli address key-hash --payment-verification-key-file $vKeyOwner2)\n",
    "\n",
    "# Create the script\n",
    "echo \"{\" >> scriptAll.policy\n",
    "echo \"  \\\"type\\\": \\\"all\\\",\" >> scriptAll.policy\n",
    "echo \"  \\\"scripts\\\":\" >> scriptAll.policy\n",
    "echo \"  [\" >> scriptAll.policy\n",
    "echo \"    {\" >> scriptAll.policy\n",
    "echo \"      \\\"type\\\": \\\"sig\\\",\" >> scriptAll.policy\n",
    "echo \"      \\\"keyHash\\\": \\\"$keyHashOwner1\\\"\" >> scriptAll.policy\n",
    "echo \"    },\" >> scriptAll.policy\n",
    "echo \"    {\" >> scriptAll.policy\n",
    "echo \"      \\\"type\\\": \\\"sig\\\",\" >> scriptAll.policy\n",
    "echo \"      \\\"keyHash\\\": \\\"$keyHashOwner2\\\"\" >> scriptAll.policy\n",
    "echo \"    }\" >> scriptAll.policy\n",
    "echo \"  ]\" >> scriptAll.policy\n",
    "echo \"}\" >> scriptAll.policy\n",
    "\n",
    "# Show the script in the consol\n",
    "cat scriptAll.policy"
   ]
  },
  {
   "cell_type": "markdown",
   "metadata": {},
   "source": [
    "### 2) Create the native script address"
   ]
  },
  {
   "cell_type": "code",
   "execution_count": 63,
   "metadata": {},
   "outputs": [
    {
     "name": "stdout",
     "output_type": "stream",
     "text": [
      "addr_test1wzlh2pphxzv566a3yuqntq6wrt00pr3mpczks72azhzhppczfl7yr\n",
      "70bf75043730994d6bb1270135834e1adef08e3b0e0568795d15c57087\n"
     ]
    }
   ],
   "source": [
    "%%bash\n",
    "# Create the script address\n",
    "cardano-cli address build \\\n",
    "--payment-script-file scriptAll.policy  \\\n",
    "--testnet-magic 1 \\\n",
    "--out-file scriptAll.addr\n",
    "\n",
    "# Bech32 encoded address\n",
    "echo $(cat scriptAll.addr)\n",
    "# Bech32 decoded address\n",
    "echo $(bech32 <<< $(cat scriptAll.addr))"
   ]
  },
  {
   "cell_type": "markdown",
   "metadata": {},
   "source": [
    "### Send funds to the script address and get the UTXO from the script "
   ]
  },
  {
   "cell_type": "code",
   "execution_count": 67,
   "metadata": {},
   "outputs": [
    {
     "name": "stdout",
     "output_type": "stream",
     "text": [
      "                           TxHash                                 TxIx        Amount\n",
      "--------------------------------------------------------------------------------------\n",
      "c4d93311503365b2329ee35d4fdae6d6a0f22916115459eef8eb6dbeefbbf120     0        10000000000 lovelace + TxOutDatumNone\n"
     ]
    }
   ],
   "source": [
    "%%bash\n",
    "cardano-cli query utxo \\\n",
    "--address addr_test1wzlh2pphxzv566a3yuqntq6wrt00pr3mpczks72azhzhppczfl7yr \\\n",
    "--testnet-magic 1"
   ]
  },
  {
   "cell_type": "markdown",
   "metadata": {},
   "source": [
    "### 3) Build the transaction on-chain (using build command)"
   ]
  },
  {
   "cell_type": "code",
   "execution_count": 77,
   "metadata": {},
   "outputs": [
    {
     "name": "stdout",
     "output_type": "stream",
     "text": [
      "Estimated transaction fee: Lovelace 173201\n"
     ]
    }
   ],
   "source": [
    "%%bash\n",
    "CHANGE_ADDR=$(cat policy/scriptAll.addr)\n",
    "RECEIVER_ADDR=$(cat /users/$(whoami)/testnet/priv/wallet/Lola/lola.addr)\n",
    "OUTPUT=9500000000\n",
    "\n",
    "# Build the transaction\n",
    "cardano-cli transaction build \\\n",
    "--tx-in c4d93311503365b2329ee35d4fdae6d6a0f22916115459eef8eb6dbeefbbf120#0 \\\n",
    "--change-address $CHANGE_ADDR \\\n",
    "--tx-out $RECEIVER_ADDR+$OUTPUT \\\n",
    "--tx-in-script-file policy/scriptAll.policy \\\n",
    "--witness-override 2 \\\n",
    "--out-file tx-files/tx-one.raw \\\n",
    "--testnet-magic 1\n",
    "\n",
    "# Get the signature from all the owners\n",
    "cardano-cli transaction witness \\\n",
    "--signing-key-file /users/$(whoami)/testnet/priv/wallet/Djessy/djessy.addr.skey \\\n",
    "--tx-body-file tx-files/tx-one.raw  \\\n",
    "--out-file tx-files/djessy.witness\n",
    "\n",
    "cardano-cli transaction witness \\\n",
    "--signing-key-file /users/$(whoami)/testnet/priv/wallet/Drake/drake.addr.skey \\\n",
    "--tx-body-file tx-files/tx-one.raw  \\\n",
    "--out-file tx-files/drake.witness\n",
    "\n",
    "# Assemble the transaction \n",
    "cardano-cli transaction assemble \\\n",
    "--tx-body-file tx-files/tx-one.raw \\\n",
    "--witness-file tx-files/djessy.witness \\\n",
    "--witness-file tx-files/drake.witness \\\n",
    "--out-file tx-files/tx-one.signed"
   ]
  },
  {
   "cell_type": "code",
   "execution_count": 1,
   "metadata": {},
   "outputs": [
    {
     "data": {
      "image/svg+xml": [
       "<svg xmlns=\"http://www.w3.org/2000/svg\" xmlns:xlink=\"http://www.w3.org/1999/xlink\" width=\"839pt\" height=\"273pt\" viewBox=\"0.00 0.00 838.50 272.74\">\n",
       "<g id=\"graph0\" class=\"graph\" transform=\"scale(1 1) rotate(0) translate(4 268.74)\">\n",
       "<title>G</title>\n",
       "<polygon fill=\"white\" stroke=\"none\" points=\"-4,4 -4,-268.74 834.5,-268.74 834.5,4 -4,4\"/>\n",
       "<!-- UTXO_IN_1 \\n c4d9331...bf120#0 -->\n",
       "<g id=\"node1\" class=\"node\">\n",
       "<title>UTXO_IN_1 \\n c4d9331...bf120#0</title>\n",
       "<polygon fill=\"none\" stroke=\"black\" points=\"365,-264.74 242,-264.74 242,-226.74 365,-226.74 365,-264.74\"/>\n",
       "<text text-anchor=\"middle\" x=\"303.5\" y=\"-249.54\" font-family=\"Times,serif\" font-size=\"14.00\">UTXO_IN_1 </text>\n",
       "<text text-anchor=\"middle\" x=\"303.5\" y=\"-234.54\" font-family=\"Times,serif\" font-size=\"14.00\"> c4d9331...bf120#0</text>\n",
       "</g>\n",
       "<!-- TRANSACTION \n",
       " \n",
       " • Network: Testnet \n",
       " &#160;• UTXO amount: 10000.0 ₳ None \n",
       "\n",
       " -->\n",
       "<g id=\"node5\" class=\"node\">\n",
       "<title>TRANSACTION \n",
       " \n",
       " • Network: Testnet \n",
       "  • UTXO amount: 10000.0 ₳ None \n",
       "\n",
       "</title>\n",
       "<polygon fill=\"none\" stroke=\"black\" points=\"412.5,-189.24 198.5,-189.24 194.5,-185.24 194.5,-105.24 408.5,-105.24 412.5,-109.24 412.5,-189.24\"/>\n",
       "<polyline fill=\"none\" stroke=\"black\" points=\"408.5,-185.24 194.5,-185.24\"/>\n",
       "<polyline fill=\"none\" stroke=\"black\" points=\"408.5,-185.24 408.5,-105.24\"/>\n",
       "<polyline fill=\"none\" stroke=\"black\" points=\"408.5,-185.24 412.5,-189.24\"/>\n",
       "<text text-anchor=\"middle\" x=\"303.5\" y=\"-174.04\" font-family=\"Times,serif\" font-size=\"14.00\">TRANSACTION </text>\n",
       "<text text-anchor=\"middle\" x=\"303.5\" y=\"-159.04\" font-family=\"Times,serif\" font-size=\"14.00\"> </text>\n",
       "<text text-anchor=\"middle\" x=\"303.5\" y=\"-144.04\" font-family=\"Times,serif\" font-size=\"14.00\"> • Network: Testnet </text>\n",
       "<text text-anchor=\"middle\" x=\"303.5\" y=\"-129.04\" font-family=\"Times,serif\" font-size=\"14.00\">  • UTXO amount: 10000.0 ₳ None </text>\n",
       "</g>\n",
       "<!-- UTXO_IN_1 \\n c4d9331...bf120#0&#45;&gt;TRANSACTION \n",
       " \n",
       " • Network: Testnet \n",
       " &#160;• UTXO amount: 10000.0 ₳ None \n",
       "\n",
       " -->\n",
       "<g id=\"edge1\" class=\"edge\">\n",
       "<title>UTXO_IN_1 \\n c4d9331...bf120#0-&gt;TRANSACTION \n",
       " \n",
       " • Network: Testnet \n",
       "  • UTXO amount: 10000.0 ₳ None \n",
       "\n",
       "</title>\n",
       "<path fill=\"none\" stroke=\"black\" d=\"M303.5,-226.59C303.5,-218.81 303.5,-209.29 303.5,-199.6\"/>\n",
       "<polygon fill=\"black\" stroke=\"black\" points=\"307,-199.51 303.5,-189.51 300,-199.51 307,-199.51\"/>\n",
       "</g>\n",
       "<!-- ADDR_1 \\n 70bf75043730...795d15c57087 -->\n",
       "<g id=\"node2\" class=\"node\">\n",
       "<title>ADDR_1 \\n 70bf75043730...795d15c57087</title>\n",
       "<text text-anchor=\"middle\" x=\"95.5\" y=\"-30.67\" font-family=\"Times,serif\" font-size=\"14.00\">ADDR_1 </text>\n",
       "<text text-anchor=\"middle\" x=\"95.5\" y=\"-15.67\" font-family=\"Times,serif\" font-size=\"14.00\"> 70bf75043730...795d15c57087</text>\n",
       "</g>\n",
       "<!-- ADDR_2 \\n 60b54c17653f...56333e7d65a0 -->\n",
       "<g id=\"node3\" class=\"node\">\n",
       "<title>ADDR_2 \\n 60b54c17653f...56333e7d65a0</title>\n",
       "<text text-anchor=\"middle\" x=\"303.5\" y=\"-30.67\" font-family=\"Times,serif\" font-size=\"14.00\">ADDR_2 </text>\n",
       "<text text-anchor=\"middle\" x=\"303.5\" y=\"-15.67\" font-family=\"Times,serif\" font-size=\"14.00\"> 60b54c17653f...56333e7d65a0</text>\n",
       "</g>\n",
       "<!-- TX_FEES \\n0.173201 ₳ -->\n",
       "<g id=\"node4\" class=\"node\">\n",
       "<title>TX_FEES \\n0.173201 ₳</title>\n",
       "<ellipse fill=\"lightblue\" stroke=\"black\" cx=\"473.5\" cy=\"-26.87\" rx=\"57.05\" ry=\"26.74\"/>\n",
       "<text text-anchor=\"middle\" x=\"473.5\" y=\"-30.67\" font-family=\"Times,serif\" font-size=\"14.00\">TX_FEES </text>\n",
       "<text text-anchor=\"middle\" x=\"473.5\" y=\"-15.67\" font-family=\"Times,serif\" font-size=\"14.00\">0.173201 ₳</text>\n",
       "</g>\n",
       "<!-- TRANSACTION \n",
       " \n",
       " • Network: Testnet \n",
       " &#160;• UTXO amount: 10000.0 ₳ None \n",
       "\n",
       "&#45;&gt;ADDR_1 \\n 70bf75043730...795d15c57087 -->\n",
       "<g id=\"edge2\" class=\"edge\">\n",
       "<title>TRANSACTION \n",
       " \n",
       " • Network: Testnet \n",
       "  • UTXO amount: 10000.0 ₳ None \n",
       "\n",
       "-&gt;ADDR_1 \\n 70bf75043730...795d15c57087</title>\n",
       "<path fill=\"none\" stroke=\"black\" d=\"M231.34,-105.17C199.39,-86.99 163.02,-66.29 135.95,-50.89\"/>\n",
       "<polygon fill=\"black\" stroke=\"black\" points=\"137.57,-47.79 127.15,-45.88 134.11,-53.87 137.57,-47.79\"/>\n",
       "<text text-anchor=\"middle\" x=\"233\" y=\"-75.54\" font-family=\"Times,serif\" font-size=\"14.00\">499.826799 ₳</text>\n",
       "</g>\n",
       "<!-- TRANSACTION \n",
       " \n",
       " • Network: Testnet \n",
       " &#160;• UTXO amount: 10000.0 ₳ None \n",
       "\n",
       "&#45;&gt;ADDR_2 \\n 60b54c17653f...56333e7d65a0 -->\n",
       "<g id=\"edge3\" class=\"edge\">\n",
       "<title>TRANSACTION \n",
       " \n",
       " • Network: Testnet \n",
       "  • UTXO amount: 10000.0 ₳ None \n",
       "\n",
       "-&gt;ADDR_2 \\n 60b54c17653f...56333e7d65a0</title>\n",
       "<path fill=\"none\" stroke=\"black\" d=\"M303.5,-105.17C303.5,-89.1 303.5,-71.06 303.5,-56.45\"/>\n",
       "<polygon fill=\"black\" stroke=\"black\" points=\"307,-56.04 303.5,-46.04 300,-56.04 307,-56.04\"/>\n",
       "<text text-anchor=\"middle\" x=\"329.5\" y=\"-75.54\" font-family=\"Times,serif\" font-size=\"14.00\">9500.0 ₳</text>\n",
       "</g>\n",
       "<!-- TRANSACTION \n",
       " \n",
       " • Network: Testnet \n",
       " &#160;• UTXO amount: 10000.0 ₳ None \n",
       "\n",
       "&#45;&gt;TX_FEES \\n0.173201 ₳ -->\n",
       "<g id=\"edge4\" class=\"edge\">\n",
       "<title>TRANSACTION \n",
       " \n",
       " • Network: Testnet \n",
       "  • UTXO amount: 10000.0 ₳ None \n",
       "\n",
       "-&gt;TX_FEES \\n0.173201 ₳</title>\n",
       "<path fill=\"none\" stroke=\"black\" d=\"M362.48,-105.17C386.08,-88.74 412.64,-70.24 433.87,-55.47\"/>\n",
       "<polygon fill=\"black\" stroke=\"black\" points=\"436.11,-58.17 442.31,-49.59 432.11,-52.43 436.11,-58.17\"/>\n",
       "</g>\n",
       "<!-- \\n WITNESS_1 \\n Signature = cd46e6b...e69a103 \\n vKey = 56aa7a3...897263f \\n\\n -->\n",
       "<g id=\"node6\" class=\"node\">\n",
       "<title>\\n WITNESS_1 \\n Signature = cd46e6b...e69a103 \\n vKey = 56aa7a3...897263f \\n\\n</title>\n",
       "<polygon fill=\"lightgreen\" stroke=\"black\" points=\"624.5,-183.74 430.5,-183.74 430.5,-110.74 624.5,-110.74 624.5,-183.74\"/>\n",
       "<polyline fill=\"none\" stroke=\"black\" points=\"433.5,-148.74 436.5,-145.74\"/>\n",
       "<polyline fill=\"none\" stroke=\"black\" points=\"433.5,-145.74 436.5,-148.74\"/>\n",
       "<polyline fill=\"none\" stroke=\"black\" points=\"433.5,-113.74 621.5,-113.74\"/>\n",
       "<text text-anchor=\"middle\" x=\"527.5\" y=\"-158.54\" font-family=\"Times,serif\" font-size=\"14.00\"> WITNESS_1 </text>\n",
       "<text text-anchor=\"middle\" x=\"527.5\" y=\"-143.54\" font-family=\"Times,serif\" font-size=\"14.00\"> Signature = cd46e6b...e69a103 </text>\n",
       "<text text-anchor=\"middle\" x=\"527.5\" y=\"-128.54\" font-family=\"Times,serif\" font-size=\"14.00\"> vKey = 56aa7a3...897263f </text>\n",
       "</g>\n",
       "<!-- \\n WITNESS_2 \\n Signature = 99e5ff4...c93af08 \\n vKey = 6361910...43d6474 \\n\\n -->\n",
       "<g id=\"node7\" class=\"node\">\n",
       "<title>\\n WITNESS_2 \\n Signature = 99e5ff4...c93af08 \\n vKey = 6361910...43d6474 \\n\\n</title>\n",
       "<polygon fill=\"lightgreen\" stroke=\"black\" points=\"830.5,-183.74 642.5,-183.74 642.5,-110.74 830.5,-110.74 830.5,-183.74\"/>\n",
       "<polyline fill=\"none\" stroke=\"black\" points=\"645.5,-148.74 648.5,-145.74\"/>\n",
       "<polyline fill=\"none\" stroke=\"black\" points=\"645.5,-145.74 648.5,-148.74\"/>\n",
       "<polyline fill=\"none\" stroke=\"black\" points=\"645.5,-113.74 827.5,-113.74\"/>\n",
       "<text text-anchor=\"middle\" x=\"736.5\" y=\"-158.54\" font-family=\"Times,serif\" font-size=\"14.00\"> WITNESS_2 </text>\n",
       "<text text-anchor=\"middle\" x=\"736.5\" y=\"-143.54\" font-family=\"Times,serif\" font-size=\"14.00\"> Signature = 99e5ff4...c93af08 </text>\n",
       "<text text-anchor=\"middle\" x=\"736.5\" y=\"-128.54\" font-family=\"Times,serif\" font-size=\"14.00\"> vKey = 6361910...43d6474 </text>\n",
       "</g>\n",
       "</g>\n",
       "</svg>"
      ],
      "text/plain": [
       "<IPython.core.display.SVG object>"
      ]
     },
     "execution_count": 1,
     "metadata": {},
     "output_type": "execute_result"
    }
   ],
   "source": [
    "from IPython.display import SVG\n",
    "from cardano_py_tools import transaction as tx\n",
    "tx.vizualisation(txFile=\"tx-files/tx-one.signed\", saveTo=\"tx-files/tx-one.svg\")\n",
    "SVG(\"tx-files/tx-one.svg\")"
   ]
  },
  {
   "cell_type": "markdown",
   "metadata": {},
   "source": [
    "### Submit the transaction"
   ]
  },
  {
   "cell_type": "code",
   "execution_count": 80,
   "metadata": {},
   "outputs": [
    {
     "name": "stdout",
     "output_type": "stream",
     "text": [
      "Transaction successfully submitted.\n"
     ]
    }
   ],
   "source": [
    "%%bash\n",
    "# Submit the transaction\n",
    "cardano-cli transaction submit \\\n",
    "--tx-file tx-files/tx-one.signed \\\n",
    "--testnet-magic 1"
   ]
  },
  {
   "cell_type": "markdown",
   "metadata": {},
   "source": [
    "### Check the balance of the native script"
   ]
  },
  {
   "cell_type": "code",
   "execution_count": 82,
   "metadata": {},
   "outputs": [
    {
     "name": "stdout",
     "output_type": "stream",
     "text": [
      "                           TxHash                                 TxIx        Amount\n",
      "--------------------------------------------------------------------------------------\n",
      "98b172afe15ce5b0efb28bd604431cdd23f8351f90271415f86e782087337872     0        499826799 lovelace + TxOutDatumNone\n"
     ]
    }
   ],
   "source": [
    "%%bash\n",
    "cardano-cli query utxo \\\n",
    "--address addr_test1wzlh2pphxzv566a3yuqntq6wrt00pr3mpczks72azhzhppczfl7yr \\\n",
    "--testnet-magic 1"
   ]
  },
  {
   "cell_type": "markdown",
   "metadata": {},
   "source": [
    "# Others types of scripts"
   ]
  },
  {
   "cell_type": "markdown",
   "metadata": {},
   "source": [
    "### - Any\n",
    "\n",
    "The funds locked in a script of type `any` can only be spend if one of the address owners sign the transaction."
   ]
  },
  {
   "cell_type": "code",
   "execution_count": 85,
   "metadata": {},
   "outputs": [
    {
     "name": "stdout",
     "output_type": "stream",
     "text": [
      "{\n",
      "  \"type\": \"any\",\n",
      "  \"scripts\":\n",
      "  [\n",
      "    {\n",
      "      \"type\": \"sig\",\n",
      "      \"keyHash\": \"45e35c668298a740e4b39e192c37fdf6014b9eb9a2d45134a863b2b5\"\n",
      "    },\n",
      "    {\n",
      "      \"type\": \"sig\",\n",
      "      \"keyHash\": \"3933c66d722b50c90f70e34dfd76899e299b80567ba6980c1f4e0050\"\n",
      "    },\n",
      "    {\n",
      "      \"type\": \"sig\",\n",
      "      \"keyHash\": \"835bb523508858ef8167f3a88423f3287dd4ffcf86d23825a1cae438\"\n",
      "    }\n",
      "  ]\n",
      "}\n"
     ]
    }
   ],
   "source": [
    "# Examples of script using the type any\n",
    "!cat policy/scriptAny.policy"
   ]
  },
  {
   "cell_type": "markdown",
   "metadata": {},
   "source": [
    "### - AtLeast\n",
    "The funds locked in a script of type `atLeast` can only be spend if there is atLeast the X number of signature required."
   ]
  },
  {
   "cell_type": "code",
   "execution_count": 86,
   "metadata": {},
   "outputs": [
    {
     "name": "stdout",
     "output_type": "stream",
     "text": [
      "{\n",
      "  \"type\": \"atLeast\",\n",
      "  \"required\": 2,\n",
      "  \"scripts\":\n",
      "  [\n",
      "    {\n",
      "      \"type\": \"sig\",\n",
      "      \"keyHash\": \"45e35c668298a740e4b39e192c37fdf6014b9eb9a2d45134a863b2b5\"\n",
      "    },\n",
      "    {\n",
      "      \"type\": \"sig\",\n",
      "      \"keyHash\": \"3933c66d722b50c90f70e34dfd76899e299b80567ba6980c1f4e0050\"\n",
      "    },\n",
      "    {\n",
      "      \"type\": \"sig\",\n",
      "      \"keyHash\": \"835bb523508858ef8167f3a88423f3287dd4ffcf86d23825a1cae438\"\n",
      "    }\n",
      "  ]\n",
      "}\n"
     ]
    }
   ],
   "source": [
    "# Examples of script using the type atLeast\n",
    "!cat policy/scriptAtLeast.policy"
   ]
  },
  {
   "cell_type": "markdown",
   "metadata": {},
   "source": [
    "### - After \n",
    "\n",
    "You can specify a slot after which the signature is allowed.  \n",
    "Before the slot x you can't spend the funds and but after the slot x you can."
   ]
  },
  {
   "cell_type": "code",
   "execution_count": 88,
   "metadata": {},
   "outputs": [
    {
     "name": "stdout",
     "output_type": "stream",
     "text": [
      "{\n",
      "  \"type\": \"all\",\n",
      "  \"scripts\":\n",
      "  [\n",
      "    {\n",
      "      \"type\": \"after\",\n",
      "      \"slot\": 8278668\n",
      "    },\n",
      "    {\n",
      "      \"type\": \"sig\",\n",
      "      \"keyHash\": \"45e35c668298a740e4b39e192c37fdf6014b9eb9a2d45134a863b2b5\"\n",
      "    }\n",
      "  ]\n",
      "}\n"
     ]
    }
   ],
   "source": [
    "# Examples of script using the type after\n",
    "!cat policy/scriptAfter.policy"
   ]
  },
  {
   "cell_type": "markdown",
   "metadata": {},
   "source": [
    "### - Before \n",
    "\n",
    "You can specify a slot until wich the signature is allowed.  \n",
    "Before the slot x you can spend the fund but after the slot x you can't."
   ]
  },
  {
   "cell_type": "code",
   "execution_count": 89,
   "metadata": {},
   "outputs": [
    {
     "name": "stdout",
     "output_type": "stream",
     "text": [
      "{\n",
      "  \"type\": \"any\",\n",
      "  \"scripts\":\n",
      "  [\n",
      "    {\n",
      "      \"type\": \"before\",\n",
      "      \"slot\": 8107662\n",
      "    },\n",
      "    {\n",
      "      \"type\": \"sig\",\n",
      "      \"keyHash\": \"45e35c668298a740e4b39e192c37fdf6014b9eb9a2d45134a863b2b5\"\n",
      "    },\n",
      "    {\n",
      "      \"type\": \"sig\",\n",
      "      \"keyHash\": \"3933c66d722b50c90f70e34dfd76899e299b80567ba6980c1f4e0050\"\n",
      "    },\n",
      "    {\n",
      "      \"type\": \"sig\",\n",
      "      \"keyHash\": \"835bb523508858ef8167f3a88423f3287dd4ffcf86d23825a1cae438\"\n",
      "    }\n",
      "  ]\n",
      "}\n"
     ]
    }
   ],
   "source": [
    "# Examples of script using the type after\n",
    "!cat policy/scriptBefore.policy"
   ]
  },
  {
   "cell_type": "code",
   "execution_count": 2,
   "metadata": {},
   "outputs": [
    {
     "name": "stdout",
     "output_type": "stream",
     "text": [
      "[jupytext] Reading how-to-create-a-multi-sign-tx.ipynb in format ipynb\n",
      "[jupytext] Writing how-to-create-a-multi-sign-tx.md\n"
     ]
    }
   ],
   "source": [
    "!jupytext --to markdown how-to-create-a-multi-sign-tx.ipynb"
   ]
  }
 ],
 "metadata": {
  "kernelspec": {
   "display_name": "Python 3",
   "language": "python",
   "name": "python3"
  },
  "language_info": {
   "codemirror_mode": {
    "name": "ipython",
    "version": 3
   },
   "file_extension": ".py",
   "mimetype": "text/x-python",
   "name": "python",
   "nbconvert_exporter": "python",
   "pygments_lexer": "ipython3",
   "version": "3.8.0"
  }
 },
 "nbformat": 4,
 "nbformat_minor": 4
}
