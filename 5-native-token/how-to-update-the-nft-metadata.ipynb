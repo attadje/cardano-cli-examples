{
 "cells": [
  {
   "cell_type": "markdown",
   "metadata": {},
   "source": [
    "# How to update the nft metadata"
   ]
  },
  {
   "cell_type": "markdown",
   "metadata": {},
   "source": [
    "You can update a nft metadata only if the policy allow you to mint or burn the token."
   ]
  },
  {
   "cell_type": "markdown",
   "metadata": {},
   "source": [
    "### 1) Create the NFT"
   ]
  },
  {
   "cell_type": "code",
   "execution_count": 95,
   "metadata": {},
   "outputs": [
    {
     "name": "stdout",
     "output_type": "stream",
     "text": [
      "                           TxHash                                 TxIx        Amount\n",
      "--------------------------------------------------------------------------------------\n",
      "98b172afe15ce5b0efb28bd604431cdd23f8351f90271415f86e782087337872     1        9500000000 lovelace + TxOutDatumNone\n"
     ]
    }
   ],
   "source": [
    "%%bash\n",
    "cardano-cli query utxo \\\n",
    "--address $(cat /users/$(whoami)/testnet/priv/wallet/Lola/lola.addr) \\\n",
    "--testnet-magic 1 "
   ]
  },
  {
   "cell_type": "code",
   "execution_count": 96,
   "metadata": {},
   "outputs": [
    {
     "name": "stdout",
     "output_type": "stream",
     "text": [
      "Estimated transaction fee: Lovelace 187061\n",
      "Transaction successfully submitted.\n"
     ]
    }
   ],
   "source": [
    "%%bash\n",
    "# Create the mint and burn keys\n",
    "cardano-cli address key-gen \\\n",
    "--verification-key-file priv/NFT/nft.vkey \\\n",
    "--signing-key-file priv/NFT/nft.skey\n",
    "\n",
    "# Create the policy script\n",
    "NFT_VKEY=$(cardano-cli address key-hash --payment-verification-key-file priv/NFT/nft.vkey)\n",
    "SCRIPT_PATH=policy/nft.script\n",
    "# Script locked after one year\n",
    "SLOTS=31536000\n",
    "TIME_CONSTRAINT=$(($(cardano-cli query tip --testnet-magic 1 | jq .slot) + SLOTS))\n",
    "\n",
    "# Generate the policy script\n",
    "echo \"{\" >> $SCRIPT_PATH\n",
    "echo \"  \\\"type\\\": \\\"all\\\",\" >> $SCRIPT_PATH\n",
    "echo \"  \\\"scripts\\\":\" >> $SCRIPT_PATH\n",
    "echo \"  [\" >> $SCRIPT_PATH\n",
    "echo \"    {\" >> $SCRIPT_PATH\n",
    "echo \"      \\\"type\\\":\\\"before\\\",\" >> $SCRIPT_PATH\n",
    "echo \"      \\\"slot\\\":$TIME_CONSTRAINT\" >> $SCRIPT_PATH\n",
    "echo \"    },\" >> $SCRIPT_PATH\n",
    "echo \"    {\" >> $SCRIPT_PATH\n",
    "echo \"      \\\"type\\\": \\\"sig\\\",\" >> $SCRIPT_PATH\n",
    "echo \"      \\\"keyHash\\\": \\\"$NFT_VKEY\\\"\" >> $SCRIPT_PATH\n",
    "echo \"    }\" >> $SCRIPT_PATH\n",
    "echo \"  ]\" >> $SCRIPT_PATH\n",
    "echo \"}\" >> $SCRIPT_PATH\n",
    "\n",
    "# Create the policy id\n",
    "cardano-cli transaction policyid \\\n",
    "--script-file policy/nft.script \\\n",
    "> policy/nft.policyid\n",
    "\n",
    "# Create the metadata\n",
    "NFT_ID=721\n",
    "POLICY_ID=$(cat policy/nft.policyid)\n",
    "ASSET_NAME=\"3DCN3986\"\n",
    "IMAGE=\"ipfs://QmVYfnHBhmpVKjAHRpxtwt6XThnafKW37tFtxvCbmHGjzN\"\n",
    "DESCRIPTION=\"3D render of the clay nation NFT 3986 generate with DALL-E-2 AI\"\n",
    "NFT_METADATA_PATH=metadata/nft.metadata\n",
    "\n",
    "echo \"{\" >> $NFT_METADATA_PATH\n",
    "echo \"  \\\"$NFT_ID\\\": {\" >> $NFT_METADATA_PATH\n",
    "echo \"    \\\"$POLICY_ID\\\": {\" >> $NFT_METADATA_PATH\n",
    "echo \"     \\\"$ASSET_NAME\\\": {\" >> $NFT_METADATA_PATH\n",
    "echo \"     \\\"descripption\\\": \\\"$DESCRIPTION\\\",\" >> $NFT_METADATA_PATH\n",
    "echo \"     \\\"image\\\": \\\"$IMAGE\\\"\" >> $NFT_METADATA_PATH\n",
    "echo \"   }\" >> $NFT_METADATA_PATH\n",
    "echo \"  }\" >> $NFT_METADATA_PATH\n",
    "echo \" }\" >> $NFT_METADATA_PATH\n",
    "echo \"}\" >> $NFT_METADATA_PATH\n",
    "\n",
    "# Build the transaction\n",
    "TOKEN_SUPPLY=1\n",
    "ASSET_NAME_HEX=$(echo -n $ASSET_NAME | xxd -ps | tr -d '\\n')\n",
    "MINT_ADDR=$(cat /users/$(whoami)/testnet/priv/wallet/Lola/lola.addr)\n",
    "UTXO_IN=98b172afe15ce5b0efb28bd604431cdd23f8351f90271415f86e782087337872#1\n",
    "UTXO_IN_AMOUNT=9500000000\n",
    "MIN_ADA_VALUE=2000000\n",
    " \n",
    "cardano-cli transaction build \\\n",
    "--tx-in $UTXO_IN \\\n",
    "--tx-out $MINT_ADDR+$MIN_ADA_VALUE+\"$TOKEN_SUPPLY $POLICY_ID.$ASSET_NAME_HEX\" \\\n",
    "--change-address $MINT_ADDR \\\n",
    "--mint \"$TOKEN_SUPPLY $POLICY_ID.$ASSET_NAME_HEX\" \\\n",
    "--minting-script-file policy/nft.script \\\n",
    "--metadata-json-file metadata/nft.metadata \\\n",
    "--invalid-hereafter $TIME_CONSTRAINT \\\n",
    "--witness-override 2 \\\n",
    "--testnet-magic 1 \\\n",
    "--out-file tx-files/nftMintTx.raw\n",
    "\n",
    "# Sign the transaction\n",
    "cardano-cli transaction sign \\\n",
    "--tx-body-file tx-files/nftMintTx.raw \\\n",
    "--signing-key-file /users/$(whoami)/testnet/priv/wallet/Lola/lola.addr.skey \\\n",
    "--signing-key-file priv/NFT/nft.skey \\\n",
    "--out-file tx-files/nftMintTx.signed\n",
    "\n",
    "# Submi the transaction\n",
    "cardano-cli transaction submit \\\n",
    "--tx-file tx-files/nftMintTx.signed \\\n",
    "--testnet-magic 1"
   ]
  },
  {
   "cell_type": "markdown",
   "metadata": {
    "tags": []
   },
   "source": [
    "### Get the on-chain data of the asset"
   ]
  },
  {
   "cell_type": "code",
   "execution_count": 116,
   "metadata": {},
   "outputs": [
    {
     "name": "stdout",
     "output_type": "stream",
     "text": [
      "                           TxHash                                 TxIx        Amount\n",
      "--------------------------------------------------------------------------------------\n",
      "8b1cf6cdc93af09552614ee717259d07e38624a7d1afad2c39552510e0a70f44     0        9497812939 lovelace + TxOutDatumNone\n",
      "8b1cf6cdc93af09552614ee717259d07e38624a7d1afad2c39552510e0a70f44     1        2000000 lovelace + 1 ffc46973f409fe915cafed2c5cd6a0d93d4cc4ee130d86c5eabef4f7.3344434e33393836 + TxOutDatumNone\n"
     ]
    }
   ],
   "source": [
    "%%bash \n",
    "cardano-cli query utxo \\\n",
    "--address $(cat /users/$(whoami)/testnet/priv/wallet/Lola/lola.addr) \\\n",
    "--testnet-magic 1"
   ]
  },
  {
   "cell_type": "code",
   "execution_count": 108,
   "metadata": {},
   "outputs": [
    {
     "name": "stdout",
     "output_type": "stream",
     "text": [
      "ffc46973f409fe915cafed2c5cd6a0d93d4cc4ee130d86c5eabef4f73344434e33393836\n"
     ]
    }
   ],
   "source": [
    "%%bash\n",
    "echo $(cat policy/nft.policyid)$(echo -n \"3DCN3986\" | xxd -ps | tr -d '\\n')"
   ]
  },
  {
   "cell_type": "code",
   "execution_count": 118,
   "metadata": {},
   "outputs": [
    {
     "ename": "Exception",
     "evalue": "[ERROR 404] Not Found (https://cardano-preprod.blockfrost.io/api/v0/assets/ffc46973f409fe915cafed2c5cd6a0d93d4cc4ee130d86c5eabef4f73344434e33393836). The requested component has not been found.",
     "output_type": "error",
     "traceback": [
      "\u001b[0;31m---------------------------------------------------------------------------\u001b[0m",
      "\u001b[0;31mException\u001b[0m                                 Traceback (most recent call last)",
      "\u001b[0;32m<ipython-input-118-994460859083>\u001b[0m in \u001b[0;36m<module>\u001b[0;34m\u001b[0m\n\u001b[1;32m      2\u001b[0m \u001b[0;34m\u001b[0m\u001b[0m\n\u001b[1;32m      3\u001b[0m \u001b[0mpreprod\u001b[0m\u001b[0;34m=\u001b[0m \u001b[0mbf\u001b[0m\u001b[0;34m.\u001b[0m\u001b[0mAuth\u001b[0m\u001b[0;34m(\u001b[0m\u001b[0;34m\"preprod\"\u001b[0m\u001b[0;34m)\u001b[0m\u001b[0;34m\u001b[0m\u001b[0;34m\u001b[0m\u001b[0m\n\u001b[0;32m----> 4\u001b[0;31m \u001b[0mpreprod\u001b[0m\u001b[0;34m.\u001b[0m\u001b[0mspecific_asset\u001b[0m\u001b[0;34m(\u001b[0m\u001b[0;34m\"ffc46973f409fe915cafed2c5cd6a0d93d4cc4ee130d86c5eabef4f73344434e33393836\"\u001b[0m\u001b[0;34m)\u001b[0m\u001b[0;34m\u001b[0m\u001b[0;34m\u001b[0m\u001b[0m\n\u001b[0m",
      "\u001b[0;32m/Library/Frameworks/Python.framework/Versions/3.8/lib/python3.8/site-packages/cardano_explorer/blockfrost_api.py\u001b[0m in \u001b[0;36mspecific_asset\u001b[0;34m(self, asset)\u001b[0m\n\u001b[1;32m    509\u001b[0m         \u001b[0mspecific_asset_url\u001b[0m \u001b[0;34m=\u001b[0m \u001b[0mself\u001b[0m\u001b[0;34m.\u001b[0m\u001b[0mnetwork\u001b[0m \u001b[0;34m+\u001b[0m \u001b[0mbf_assets_url\u001b[0m \u001b[0;34m+\u001b[0m \u001b[0masset\u001b[0m\u001b[0;34m\u001b[0m\u001b[0;34m\u001b[0m\u001b[0m\n\u001b[1;32m    510\u001b[0m \u001b[0;34m\u001b[0m\u001b[0m\n\u001b[0;32m--> 511\u001b[0;31m         \u001b[0mresponse\u001b[0m \u001b[0;34m=\u001b[0m \u001b[0mquery_blockfrost\u001b[0m\u001b[0;34m(\u001b[0m\u001b[0mspecific_asset_url\u001b[0m\u001b[0;34m,\u001b[0m \u001b[0mself\u001b[0m\u001b[0;34m.\u001b[0m\u001b[0mapi_key\u001b[0m\u001b[0;34m,\u001b[0m \u001b[0mself\u001b[0m\u001b[0;34m.\u001b[0m\u001b[0mproxies\u001b[0m\u001b[0;34m)\u001b[0m\u001b[0;34m\u001b[0m\u001b[0;34m\u001b[0m\u001b[0m\n\u001b[0m\u001b[1;32m    512\u001b[0m \u001b[0;34m\u001b[0m\u001b[0m\n\u001b[1;32m    513\u001b[0m         \u001b[0;32mreturn\u001b[0m \u001b[0mresponse\u001b[0m\u001b[0;34m\u001b[0m\u001b[0;34m\u001b[0m\u001b[0m\n",
      "\u001b[0;32m/Library/Frameworks/Python.framework/Versions/3.8/lib/python3.8/site-packages/cardano_explorer/blockfrost/query.py\u001b[0m in \u001b[0;36mquery_blockfrost\u001b[0;34m(url, api_key, proxies)\u001b[0m\n\u001b[1;32m     28\u001b[0m     \u001b[0;32melse\u001b[0m\u001b[0;34m:\u001b[0m\u001b[0;34m\u001b[0m\u001b[0;34m\u001b[0m\u001b[0m\n\u001b[1;32m     29\u001b[0m         \u001b[0mjson\u001b[0m \u001b[0;34m=\u001b[0m \u001b[0mresponse\u001b[0m\u001b[0;34m.\u001b[0m\u001b[0mjson\u001b[0m\u001b[0;34m(\u001b[0m\u001b[0;34m)\u001b[0m\u001b[0;34m\u001b[0m\u001b[0;34m\u001b[0m\u001b[0m\n\u001b[0;32m---> 30\u001b[0;31m         raise Exception(\"[ERROR {}] {} ({}). {}\".format(json['status_code'],\n\u001b[0m\u001b[1;32m     31\u001b[0m                                                    \u001b[0mjson\u001b[0m\u001b[0;34m[\u001b[0m\u001b[0;34m'error'\u001b[0m\u001b[0;34m]\u001b[0m\u001b[0;34m,\u001b[0m\u001b[0;34m\u001b[0m\u001b[0;34m\u001b[0m\u001b[0m\n\u001b[1;32m     32\u001b[0m                                                    \u001b[0murl\u001b[0m\u001b[0;34m,\u001b[0m\u001b[0;34m\u001b[0m\u001b[0;34m\u001b[0m\u001b[0m\n",
      "\u001b[0;31mException\u001b[0m: [ERROR 404] Not Found (https://cardano-preprod.blockfrost.io/api/v0/assets/ffc46973f409fe915cafed2c5cd6a0d93d4cc4ee130d86c5eabef4f73344434e33393836). The requested component has not been found."
     ]
    }
   ],
   "source": [
    "from cardano_explorer import blockfrost_api as bf\n",
    "\n",
    "preprod= bf.Auth(\"preprod\")\n",
    "preprod.specific_asset(\"ffc46973f409fe915cafed2c5cd6a0d93d4cc4ee130d86c5eabef4f73344434e33393836\")"
   ]
  },
  {
   "cell_type": "markdown",
   "metadata": {},
   "source": [
    "### 2) Update the NFT metadata\n",
    "\n",
    "To update the metadata of the asset, you have to mint a second NFT with updated metadata into your own wallet \n",
    "and then burn it immediately. "
   ]
  },
  {
   "cell_type": "code",
   "execution_count": null,
   "metadata": {},
   "outputs": [],
   "source": [
    "# Update the metadata\n",
    "NFT_ID=721\n",
    "POLICY_ID=$(cat policy/nft.policyid)\n",
    "ASSET_NAME=\"3DClayNation3986\"\n",
    "IMAGE=\"ipfs://QmVYfnHBhmpVKjAHRpxtwt6XThnafKW37tFtxvCbmHGjzN\"\n",
    "DESCRIPTION=\"3D render of the clay nation NFT 3986 generate with DALL-E-2 AI\"\n",
    "NFT_METADATA_PATH=metadata/nft.metadata\n",
    "\n",
    "echo \"{\" >> $NFT_METADATA_PATH\n",
    "echo \"  \\\"$NFT_ID\\\": {\" >> $NFT_METADATA_PATH\n",
    "echo \"    \\\"$POLICY_ID\\\": {\" >> $NFT_METADATA_PATH\n",
    "echo \"     \\\"$ASSET_NAME\\\": {\" >> $NFT_METADATA_PATH\n",
    "echo \"     \\\"descripption\\\": \\\"$DESCRIPTION\\\",\" >> $NFT_METADATA_PATH\n",
    "echo \"     \\\"image\\\": \\\"$IMAGE\\\",\" >> $NFT_METADATA_PATH\n",
    "echo \"     \\\"mediaType\\\": \\\"image/png\\\"\" >> $NFT_METADATA_PATH\n",
    "echo \"   }\" >> $NFT_METADATA_PATH\n",
    "echo \"  }\" >> $NFT_METADATA_PATH\n",
    "echo \" }\" >> $NFT_METADATA_PATH\n",
    "echo \"}\" >> $NFT_METADATA_PATH\n",
    "\n",
    "# Build the transaction\n",
    "TOKEN_SUPPLY=1\n",
    "ASSET_NAME_HEX=$(echo -n $ASSET_NAME | xxd -ps | tr -d '\\n')\n",
    "MINT_ADDR=$(cat /users/$(whoami)/testnet/priv/wallet/Drake/drake.addr)\n",
    "UTXO_IN=642291a28291970444019cc8186536582871bd602609c2048c0f58274e255b89#0\n",
    "UTXO_IN_AMOUNT=95631554\n",
    "MIN_ADA_VALUE=2000000\n",
    " \n",
    "cardano-cli transaction build \\\n",
    "--tx-in $UTXO_IN \\\n",
    "--tx-out $MINT_ADDR+$MIN_ADA_VALUE+\"$TOKEN_SUPPLY $POLICY_ID.$ASSET_NAME_HEX\" \\\n",
    "--change-address $MINT_ADDR \\\n",
    "--mint \"$TOKEN_SUPPLY $POLICY_ID.$ASSET_NAME_HEX\" \\\n",
    "--minting-script-file policy/nft.script \\\n",
    "--metadata-json-file metadata/nft.metadata \\\n",
    "--invalid-hereafter $TIME_CONSTRAINT \\\n",
    "--witness-override 2 \\\n",
    "--testnet-magic 1 \\\n",
    "--out-file tx-files/nftMintTx.raw\n",
    "\n",
    "# Sign the transaction\n",
    "cardano-cli transaction sign \\\n",
    "--tx-body-file tx-files/nftMintTx.raw \\\n",
    "--signing-key-file /users/$(whoami)/testnet/priv/wallet/Drake/drake.addr.skey \\\n",
    "--signing-key-file priv/NFT/nft.skey \\\n",
    "--out-file tx-files/nftMintTx.signed\n",
    "\n",
    "# Submi the transaction\n",
    "cardano-cli transaction submit \\\n",
    "--tx-file tx-files/nftMintTx.signed \\\n",
    "--testnet-magic 1"
   ]
  },
  {
   "cell_type": "markdown",
   "metadata": {},
   "source": [
    "### 3) Burn the NFT"
   ]
  },
  {
   "cell_type": "code",
   "execution_count": null,
   "metadata": {},
   "outputs": [],
   "source": [
    "# Update the metadata\n",
    "NFT_ID=721\n",
    "POLICY_ID=$(cat policy/nft.policyid)\n",
    "ASSET_NAME=\"3DClayNation3986\"\n",
    "\n",
    "# Build the transaction\n",
    "TOKEN_SUPPLY=1\n",
    "ASSET_NAME_HEX=$(echo -n $ASSET_NAME | xxd -ps | tr -d '\\n')\n",
    "MINT_ADDR=$(cat /users/$(whoami)/testnet/priv/wallet/Drake/drake.addr)\n",
    "UTXO_IN=642291a28291970444019cc8186536582871bd602609c2048c0f58274e255b89#0\n",
    "UTXO_IN_AMOUNT=95631554\n",
    "MIN_ADA_VALUE=2000000\n",
    " \n",
    "cardano-cli transaction build \\\n",
    "--tx-in $UTXO_IN \\\n",
    "--tx-out $MINT_ADDR+$MIN_ADA_VALUE+\"$TOKEN_SUPPLY $POLICY_ID.$ASSET_NAME_HEX\" \\\n",
    "--change-address $MINT_ADDR \\\n",
    "--mint \"-$TOKEN_SUPPLY $POLICY_ID.$ASSET_NAME_HEX\" \\\n",
    "--minting-script-file policy/nft.script \\\n",
    "--metadata-json-file metadata/nft.metadata \\\n",
    "--invalid-hereafter $TIME_CONSTRAINT \\\n",
    "--witness-override 2 \\\n",
    "--testnet-magic 1 \\\n",
    "--out-file tx-files/nftMintTx.raw\n",
    "\n",
    "# Sign the transaction\n",
    "cardano-cli transaction sign \\\n",
    "--tx-body-file tx-files/nftMintTx.raw \\\n",
    "--signing-key-file /users/$(whoami)/testnet/priv/wallet/Drake/drake.addr.skey \\\n",
    "--signing-key-file priv/NFT/nft.skey \\\n",
    "--out-file tx-files/nftMintTx.signed\n",
    "\n",
    "# Submi the transaction\n",
    "cardano-cli transaction submit \\\n",
    "--tx-file tx-files/nftMintTx.signed \\\n",
    "--testnet-magic 1"
   ]
  }
 ],
 "metadata": {
  "kernelspec": {
   "display_name": "Python 3",
   "language": "python",
   "name": "python3"
  },
  "language_info": {
   "codemirror_mode": {
    "name": "ipython",
    "version": 3
   },
   "file_extension": ".py",
   "mimetype": "text/x-python",
   "name": "python",
   "nbconvert_exporter": "python",
   "pygments_lexer": "ipython3",
   "version": "3.8.0"
  }
 },
 "nbformat": 4,
 "nbformat_minor": 4
}
