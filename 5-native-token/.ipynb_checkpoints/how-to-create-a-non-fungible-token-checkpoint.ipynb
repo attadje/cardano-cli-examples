{
 "cells": [
  {
   "cell_type": "markdown",
   "metadata": {},
   "source": [
    "# How to create/send/burn non fungible token"
   ]
  },
  {
   "cell_type": "markdown",
   "metadata": {},
   "source": [
    "\n",
    "Native tokens on cardano are executed directly on-chain,  \n",
    "unlike the ERC-20 tokens for example, which are executed by means of smart contracts on the Ethereum blockchain.\n",
    "\n",
    "Non fungible token property:  \n",
    "  * Are unique and finite in quantity  \n",
    "  * Not equivalent to each other  "
   ]
  },
  {
   "cell_type": "markdown",
   "metadata": {},
   "source": [
    "### 1) Defines the token architecture"
   ]
  },
  {
   "cell_type": "markdown",
   "metadata": {},
   "source": [
    "Token name: `Marsian`  \n",
    "Token supply: `1`   \n",
    "Token time constraint: `1200 slots after minting` (1 slot = 1 seconde)   \n",
    "Who can mint: `One address`  "
   ]
  },
  {
   "cell_type": "markdown",
   "metadata": {},
   "source": [
    "### 2) Create a verification key and signing key for mint and burn the token"
   ]
  },
  {
   "cell_type": "code",
   "execution_count": 7,
   "metadata": {},
   "outputs": [],
   "source": [
    "%%bash \n",
    "cardano-cli address key-gen \\\n",
    "--verification-key-file priv/NFT/nft.vkey \\\n",
    "--signing-key-file priv/NFT/nft.skey"
   ]
  },
  {
   "cell_type": "markdown",
   "metadata": {},
   "source": [
    "### 3) Create the policy script"
   ]
  },
  {
   "cell_type": "code",
   "execution_count": null,
   "metadata": {},
   "outputs": [],
   "source": [
    "%%bash\n",
    "NFT_VKEY=$(cardano-cli address key-hash --payment-verification-key-file priv/NFT/nft.vkey)\n",
    "SCRIPT_PATH=policy/nft.script\n",
    "\n",
    "# Monetary script\n",
    "echo \"{\" >> $SCRIPT_PATH\n",
    "echo \"  \\\"type\\\": \\\"all\\\",\" >> $SCRIPT_PATH\n",
    "echo \"  \\\"scripts\\\":\" >> $SCRIPT_PATH\n",
    "echo \"  [\" >> $SCRIPT_PATH\n",
    "echo \"    {\" >> $SCRIPT_PATH\n",
    "echo \"      \\\"type\\\": \\\"sig\\\",\" >> $SCRIPT_PATH\n",
    "echo \"      \\\"keyHash\\\": \\\"$NFT_VKEY\\\"\" >> $SCRIPT_PATH\n",
    "echo \"    },\" >> $SCRIPT_PATH\n",
    "echo \"      \\\"type\\\":\\\"before\\\",\" >> $SCRIPT_PATH\n",
    "echo \"      \\\"slot\\\":\\\"before\\\",\" >> $SCRIPT_PATH\n",
    "echo \"    {\" >> $SCRIPT_PATH\n",
    "echo \"    }\" >> $SCRIPT_PATH\n",
    "echo \"  ]\" >> $SCRIPT_PATH\n",
    "echo \"}\" >> $SCRIPT_PATH\n",
    "\n",
    "{\n",
    "      \"type\": \"before\",\n",
    "      \"slot\": 8107662\n",
    "    },\n",
    "\n",
    "cat policy/marsToken.script"
   ]
  },
  {
   "cell_type": "markdown",
   "metadata": {},
   "source": [
    "### 4) Create the policy ID"
   ]
  },
  {
   "cell_type": "markdown",
   "metadata": {},
   "source": [
    "### 5) Mint the token"
   ]
  },
  {
   "cell_type": "code",
   "execution_count": null,
   "metadata": {},
   "outputs": [],
   "source": []
  }
 ],
 "metadata": {
  "kernelspec": {
   "display_name": "Python 3",
   "language": "python",
   "name": "python3"
  },
  "language_info": {
   "codemirror_mode": {
    "name": "ipython",
    "version": 3
   },
   "file_extension": ".py",
   "mimetype": "text/x-python",
   "name": "python",
   "nbconvert_exporter": "python",
   "pygments_lexer": "ipython3",
   "version": "3.8.0"
  }
 },
 "nbformat": 4,
 "nbformat_minor": 4
}
