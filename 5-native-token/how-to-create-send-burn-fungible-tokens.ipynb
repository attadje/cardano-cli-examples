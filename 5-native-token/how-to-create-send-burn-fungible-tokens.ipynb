{
 "cells": [
  {
   "cell_type": "markdown",
   "metadata": {},
   "source": [
    "# How to create fungible tokens\n",
    "\n",
    "Native tokens on cardano are executed directly on-chain,  \n",
    "unlike the ERC-20 tokens for example, which are executed by means of smart contracts on the Ethereum blockchain.\n",
    "\n",
    "Fungible token property:  \n",
    "  * Numerous quantity  \n",
    "  * Equivalent to each other  \n",
    "  * No distinction between each other  "
   ]
  },
  {
   "cell_type": "markdown",
   "metadata": {},
   "source": [
    "### 1) Defines the token architecture"
   ]
  },
  {
   "cell_type": "markdown",
   "metadata": {},
   "source": [
    "Token name: `MARS`  \n",
    "Token supply: `1 000 000 000`   \n",
    "Token time constraint: `No time constraint`  \n",
    "Who can mint: `One address`  "
   ]
  },
  {
   "cell_type": "markdown",
   "metadata": {},
   "source": [
    "### 2) Create a verification key and signing key for mint and burn the token"
   ]
  },
  {
   "cell_type": "code",
   "execution_count": 6,
   "metadata": {},
   "outputs": [],
   "source": [
    "%%bash\n",
    "cardano-cli address key-gen \\\n",
    "--verification-key-file priv/MARS/marsToken.vkey \\\n",
    "--signing-key-file priv/MARS/marsToken.skey"
   ]
  },
  {
   "cell_type": "markdown",
   "metadata": {},
   "source": [
    "### 3) Create the monetary policy script"
   ]
  },
  {
   "cell_type": "code",
   "execution_count": 14,
   "metadata": {},
   "outputs": [
    {
     "name": "stdout",
     "output_type": "stream",
     "text": [
      "{\n",
      "  \"type\": \"all\",\n",
      "  \"scripts\":\n",
      "  [\n",
      "    {\n",
      "      \"type\": \"sig\",\n",
      "      \"keyHash\": \"d5260b3f8a8b676dbf79b735c5f59881290405af8728a4893ac96291\"\n",
      "    }\n",
      "  ]\n",
      "}\n"
     ]
    }
   ],
   "source": [
    "%%bash\n",
    "MARS_VKEY=$(cardano-cli address key-hash --payment-verification-key-file priv/MARS/marsToken.vkey)\n",
    "SCRIPT_PATH=policy/marsToken.script\n",
    "\n",
    "# Monetary script\n",
    "echo \"{\" >> $SCRIPT_PATH\n",
    "echo \"  \\\"type\\\": \\\"all\\\",\" >> $SCRIPT_PATH\n",
    "echo \"  \\\"scripts\\\":\" >> $SCRIPT_PATH\n",
    "echo \"  [\" >> $SCRIPT_PATH\n",
    "echo \"    {\" >> $SCRIPT_PATH\n",
    "echo \"      \\\"type\\\": \\\"sig\\\",\" >> $SCRIPT_PATH\n",
    "echo \"      \\\"keyHash\\\": \\\"$MARS_VKEY\\\"\" >> $SCRIPT_PATH\n",
    "echo \"    }\" >> $SCRIPT_PATH\n",
    "echo \"  ]\" >> $SCRIPT_PATH\n",
    "echo \"}\" >> $SCRIPT_PATH\n",
    "\n",
    "cat policy/marsToken.script"
   ]
  },
  {
   "cell_type": "markdown",
   "metadata": {},
   "source": [
    "### 4) Create the policy ID\n",
    "\n",
    "The policy ID is the hash of the policy script."
   ]
  },
  {
   "cell_type": "code",
   "execution_count": 19,
   "metadata": {},
   "outputs": [
    {
     "name": "stdout",
     "output_type": "stream",
     "text": [
      "4fd78aae5e7643885c5f0c63d26641e2e05870d8544af7c6c239ff46\n"
     ]
    }
   ],
   "source": [
    "%%bash\n",
    "cardano-cli transaction policyid \\\n",
    "--script-file policy/marsToken.script \\\n",
    "> policy/mars.policyid\n",
    "\n",
    "cat policy/mars.policyid"
   ]
  },
  {
   "cell_type": "markdown",
   "metadata": {},
   "source": [
    "### 5) Mint the token"
   ]
  },
  {
   "cell_type": "markdown",
   "metadata": {},
   "source": [
    "  * #### 5.1 Get the UTXO from the address you want to mint the token "
   ]
  },
  {
   "cell_type": "code",
   "execution_count": 33,
   "metadata": {},
   "outputs": [
    {
     "name": "stdout",
     "output_type": "stream",
     "text": [
      "                           TxHash                                 TxIx        Amount\n",
      "--------------------------------------------------------------------------------------\n",
      "0be38e65bec5eebde5ca3308a75e5c8adcd1b184534b445c984185d7d6f9aee5     1        100000000 lovelace + TxOutDatumNone\n",
      "8d4f02739f9f921e7d50cd7765527242a1ca5bd37dc479a550af99463290d89f     1        100000000 lovelace + TxOutDatumNone\n",
      "c370cb076dc5893f548a8acf42fd507f4c21d667c036602e9092ca38f5fafbc5     1        9799824379 lovelace + TxOutDatumNone\n"
     ]
    }
   ],
   "source": [
    "%%bash\n",
    "MINT_ADDR=$(cat /users/$(whoami)/testnet/priv/wallet/Drake/drake.addr)\n",
    "\n",
    "cardano-cli query utxo \\\n",
    "--address $MINT_ADDR \\\n",
    "--testnet-magic 1"
   ]
  },
  {
   "cell_type": "markdown",
   "metadata": {},
   "source": [
    "  * #### 5.2 Mint the token "
   ]
  },
  {
   "cell_type": "code",
   "execution_count": 45,
   "metadata": {},
   "outputs": [
    {
     "name": "stdout",
     "output_type": "stream",
     "text": [
      "Estimated transaction fee: Lovelace 177865\n"
     ]
    }
   ],
   "source": [
    "%%bash\n",
    "# Encoded the token name in hex format\n",
    "ASSET_NAME=$(echo -n \"MARS\" | xxd -ps | tr -d '\\n')\n",
    "TOKEN_SUPPLY=1000000000\n",
    "POLICY_ID=$(cat policy/mars.policyid)\n",
    "MINT_ADDR=$(cat /users/$(whoami)/testnet/priv/wallet/Drake/drake.addr)\n",
    "UTXO_IN=0be38e65bec5eebde5ca3308a75e5c8adcd1b184534b445c984185d7d6f9aee5#1\n",
    "UTXO_IN_AMOUNT=100000000\n",
    "# The tokens need to have a minimum value\n",
    "# I set it to 2 ADA but it depend of bundle inside the txout (bundle = \"AMOUNT of token policyID.AssetName\")\n",
    "MIN_ADA_VALUE=2000000\n",
    "\n",
    "# Build the transaction \n",
    "cardano-cli transaction build \\\n",
    "--tx-in $UTXO_IN \\\n",
    "--tx-out $MINT_ADDR+$MIN_ADA_VALUE+\"$TOKEN_SUPPLY $POLICY_ID.$ASSET_NAME\" \\\n",
    "--change-address $MINT_ADDR \\\n",
    "--mint \"$TOKEN_SUPPLY $POLICY_ID.$ASSET_NAME\" \\\n",
    "--mint-script-file policy/marsToken.script \\\n",
    "--testnet-magic 1 \\\n",
    "--witness-override 2 \\\n",
    "--out-file tx-files/mintTX.raw\n",
    "\n",
    "cardano-cli transaction sign \\\n",
    "--tx-body-file tx-files/mintTX.raw \\\n",
    "--signing-key-file priv/MARS/marsToken.skey \\\n",
    "--signing-key-file /users/$(whoami)/testnet/priv/wallet/Drake/drake.addr.skey \\\n",
    "--out-file tx-files/mintTX.signed "
   ]
  },
  {
   "cell_type": "markdown",
   "metadata": {},
   "source": [
    "### Submint the transaction"
   ]
  },
  {
   "cell_type": "code",
   "execution_count": 49,
   "metadata": {},
   "outputs": [
    {
     "name": "stdout",
     "output_type": "stream",
     "text": [
      "Transaction successfully submitted.\n"
     ]
    }
   ],
   "source": [
    "%%bash\n",
    "cardano-cli transaction submit \\\n",
    "--tx-file tx-files/mintTX.signed \\\n",
    "--testnet-magic 1"
   ]
  },
  {
   "cell_type": "markdown",
   "metadata": {},
   "source": [
    "### Check UTXOs from the address"
   ]
  },
  {
   "cell_type": "code",
   "execution_count": 70,
   "metadata": {},
   "outputs": [
    {
     "name": "stdout",
     "output_type": "stream",
     "text": [
      "                           TxHash                                 TxIx        Amount\n",
      "--------------------------------------------------------------------------------------\n",
      "37906b562ec69696d58e57eaa06b73ef32a5a427d3f60a2389379e27585de5f9     0        97822135 lovelace + TxOutDatumNone\n",
      "37906b562ec69696d58e57eaa06b73ef32a5a427d3f60a2389379e27585de5f9     1        2000000 lovelace + 1000000000 4fd78aae5e7643885c5f0c63d26641e2e05870d8544af7c6c239ff46.4d415253 + TxOutDatumNone\n",
      "8d4f02739f9f921e7d50cd7765527242a1ca5bd37dc479a550af99463290d89f     1        100000000 lovelace + TxOutDatumNone\n",
      "c370cb076dc5893f548a8acf42fd507f4c21d667c036602e9092ca38f5fafbc5     1        9799824379 lovelace + TxOutDatumNone\n"
     ]
    }
   ],
   "source": [
    "%%bash\n",
    "MINT_ADDR=$(cat /users/$(whoami)/testnet/priv/wallet/Drake/drake.addr)\n",
    "\n",
    "cardano-cli query utxo \\\n",
    "--address $MINT_ADDR \\\n",
    "--testnet-magic 1"
   ]
  },
  {
   "cell_type": "markdown",
   "metadata": {},
   "source": [
    "# How to send fungible token"
   ]
  },
  {
   "cell_type": "code",
   "execution_count": 76,
   "metadata": {},
   "outputs": [
    {
     "name": "stdout",
     "output_type": "stream",
     "text": [
      "Estimated transaction fee: Lovelace 179449\n",
      "Transaction successfully submitted.\n"
     ]
    }
   ],
   "source": [
    "%%bash \n",
    "# Encoded the token name in hex format\n",
    "ASSET_NAME=$(echo -n \"MARS\" | xxd -ps | tr -d '\\n')\n",
    "TOKEN_SUPPLY=1000000000\n",
    "POLICY_ID=$(cat policy/mars.policyid)\n",
    "SENDER_ADDR=$(cat /users/$(whoami)/testnet/priv/wallet/Drake/drake.addr)\n",
    "RECEIVER_ADDR=$(cat /users/$(whoami)/testnet/priv/wallet/Djessy/djessy.addr)\n",
    "UTXO_IN_1=37906b562ec69696d58e57eaa06b73ef32a5a427d3f60a2389379e27585de5f9#1\n",
    "UTXO_IN_2=8d4f02739f9f921e7d50cd7765527242a1ca5bd37dc479a550af99463290d89f#1\n",
    "AMOUNT_TOKEN_TO_SEND=50000000\n",
    "CHANGE_TOKEN=$((1000000000 - $AMOUNT_TOKEN_TO_SEND))\n",
    "MIN_ADA_VALUE=2000000\n",
    "\n",
    "# Build the transaction \n",
    "cardano-cli transaction build \\\n",
    "--tx-in $UTXO_IN_1 \\\n",
    "--tx-in $UTXO_IN_2 \\\n",
    "--tx-out $RECEIVER_ADDR+$MIN_ADA_VALUE+\"$AMOUNT_TOKEN_TO_SEND $POLICY_ID.$ASSET_NAME\" \\\n",
    "--tx-out $SENDER_ADDR+$MIN_ADA_VALUE+\"$CHANGE_TOKEN $POLICY_ID.$ASSET_NAME\" \\\n",
    "--change-address $SENDER_ADDR \\\n",
    "--testnet-magic 1 \\\n",
    "--out-file tx-files/sendToken.raw\n",
    "\n",
    "# Sign the transaction\n",
    "cardano-cli transaction sign \\\n",
    "--tx-body-file tx-files/sendToken.raw \\\n",
    "--signing-key-file /users/$(whoami)/testnet/priv/wallet/Drake/drake.addr.skey \\\n",
    "--out-file tx-files/sendToken.signed\n",
    "\n",
    "# Submit the transaction\n",
    "cardano-cli transaction submit \\\n",
    "--tx-file tx-files/sendToken.signed \\\n",
    "--testnet-magic 1"
   ]
  },
  {
   "cell_type": "markdown",
   "metadata": {},
   "source": [
    "### Check UTXOs from the address"
   ]
  },
  {
   "cell_type": "code",
   "execution_count": 80,
   "metadata": {},
   "outputs": [
    {
     "name": "stdout",
     "output_type": "stream",
     "text": [
      "                           TxHash                                 TxIx        Amount\n",
      "--------------------------------------------------------------------------------------\n",
      "b74048f802c6001998cc544583d9473cd7e58adb79eac49f4da000e03c342a8b     0        9998983630 lovelace + TxOutDatumNone\n",
      "ca367e87ed8750475279267363192e8e55ec3febb6b54e7c8ec2b96e296155f2     1        2000000 lovelace + 50000000 4fd78aae5e7643885c5f0c63d26641e2e05870d8544af7c6c239ff46.4d415253 + TxOutDatumNone\n"
     ]
    }
   ],
   "source": [
    "%%bash\n",
    "MINT_ADDR=$(cat /users/$(whoami)/testnet/priv/wallet/Djessy/djessy.addr)\n",
    "\n",
    "cardano-cli query utxo \\\n",
    "--address $MINT_ADDR \\\n",
    "--testnet-magic 1"
   ]
  },
  {
   "cell_type": "markdown",
   "metadata": {},
   "source": [
    "# How to burn fungible token\n",
    "\n",
    "To burn tokens, you have to provide the signing key of the address where the tokens is locked,  \n",
    "and the corresponding signing key from the policy script."
   ]
  },
  {
   "cell_type": "markdown",
   "metadata": {},
   "source": [
    "### 1) Get the address with the token is locked "
   ]
  },
  {
   "cell_type": "code",
   "execution_count": 81,
   "metadata": {},
   "outputs": [
    {
     "name": "stdout",
     "output_type": "stream",
     "text": [
      "                           TxHash                                 TxIx        Amount\n",
      "--------------------------------------------------------------------------------------\n",
      "37906b562ec69696d58e57eaa06b73ef32a5a427d3f60a2389379e27585de5f9     0        97822135 lovelace + TxOutDatumNone\n",
      "c370cb076dc5893f548a8acf42fd507f4c21d667c036602e9092ca38f5fafbc5     1        9799824379 lovelace + TxOutDatumNone\n",
      "ca367e87ed8750475279267363192e8e55ec3febb6b54e7c8ec2b96e296155f2     0        97820551 lovelace + TxOutDatumNone\n",
      "ca367e87ed8750475279267363192e8e55ec3febb6b54e7c8ec2b96e296155f2     2        2000000 lovelace + 950000000 4fd78aae5e7643885c5f0c63d26641e2e05870d8544af7c6c239ff46.4d415253 + TxOutDatumNone\n"
     ]
    }
   ],
   "source": [
    "%%bash\n",
    "MINT_ADDR=$(cat /users/$(whoami)/testnet/priv/wallet/Drake/drake.addr)\n",
    "\n",
    "cardano-cli query utxo \\\n",
    "--address $MINT_ADDR \\\n",
    "--testnet-magic 1"
   ]
  },
  {
   "cell_type": "markdown",
   "metadata": {},
   "source": [
    "### 2) Burn the tokens at the address"
   ]
  },
  {
   "cell_type": "code",
   "execution_count": 92,
   "metadata": {},
   "outputs": [
    {
     "name": "stdout",
     "output_type": "stream",
     "text": [
      "Estimated transaction fee: Lovelace 179449\n",
      "Transaction successfully submitted.\n"
     ]
    }
   ],
   "source": [
    "%%bash\n",
    "# Encoded the token name in hex format\n",
    "ASSET_NAME=$(echo -n \"MARS\" | xxd -ps | tr -d '\\n')\n",
    "TOKEN_SUPPLY=1000000000\n",
    "POLICY_ID=$(cat policy/mars.policyid)\n",
    "ADDR=$(cat /users/$(whoami)/testnet/priv/wallet/Drake/drake.addr)\n",
    "UTXO_IN_1=ca367e87ed8750475279267363192e8e55ec3febb6b54e7c8ec2b96e296155f2#2\n",
    "UTXO_IN_2=ca367e87ed8750475279267363192e8e55ec3febb6b54e7c8ec2b96e296155f2#0\n",
    "AMOUNT_TOKEN_TO_BURN=900000000\n",
    "AMOUNT_TOKEN=950000000\n",
    "OUTPUT=$(($AMOUNT_TOKEN - $AMOUNT_TOKEN_TO_BURN))\n",
    "# The token need to have a minimum value to be mint and sent\n",
    "MIN_ADA_VALUE=2000000\n",
    "\n",
    "# Build the transaction \n",
    "cardano-cli transaction build \\\n",
    "--tx-in $UTXO_IN_1 \\\n",
    "--tx-in $UTXO_IN_2 \\\n",
    "--tx-out $ADDR+$MIN_ADA_VALUE+\"$OUTPUT $POLICY_ID.$ASSET_NAME\" \\\n",
    "--change-address $ADDR \\\n",
    "--mint \"-$AMOUNT_TOKEN_TO_BURN $POLICY_ID.$ASSET_NAME\" \\\n",
    "--mint-script-file policy/marsToken.script \\\n",
    "--testnet-magic 1 \\\n",
    "--witness-override 2 \\\n",
    "--out-file tx-files/burnToken.raw\n",
    "\n",
    "# Sign the transaction\n",
    "cardano-cli transaction sign \\\n",
    "--tx-body-file tx-files/burnToken.raw \\\n",
    "--signing-key-file /users/$(whoami)/testnet/priv/wallet/Drake/drake.addr.skey \\\n",
    "--signing-key-file priv/MARS/marsToken.skey \\\n",
    "--testnet-magic 1 \\\n",
    "--out-file tx-files/burnToken.signed\n",
    "\n",
    "# Submit the transaction\n",
    "cardano-cli transaction submit \\\n",
    "--tx-file tx-files/burnToken.signed \\\n",
    "--testnet-magic 1"
   ]
  },
  {
   "cell_type": "markdown",
   "metadata": {},
   "source": [
    "### Check UTXOs from the address"
   ]
  },
  {
   "cell_type": "code",
   "execution_count": 93,
   "metadata": {},
   "outputs": [
    {
     "name": "stdout",
     "output_type": "stream",
     "text": [
      "                           TxHash                                 TxIx        Amount\n",
      "--------------------------------------------------------------------------------------\n",
      "37906b562ec69696d58e57eaa06b73ef32a5a427d3f60a2389379e27585de5f9     0        97822135 lovelace + TxOutDatumNone\n",
      "75a02329eb8ba228ca15dfe4d59bedf1a18c6cb196aa06f35839232790b9b8d3     0        97641102 lovelace + TxOutDatumNone\n",
      "75a02329eb8ba228ca15dfe4d59bedf1a18c6cb196aa06f35839232790b9b8d3     1        2000000 lovelace + 50000000 4fd78aae5e7643885c5f0c63d26641e2e05870d8544af7c6c239ff46.4d415253 + TxOutDatumNone\n",
      "c370cb076dc5893f548a8acf42fd507f4c21d667c036602e9092ca38f5fafbc5     1        9799824379 lovelace + TxOutDatumNone\n"
     ]
    }
   ],
   "source": [
    "%%bash\n",
    "MINT_ADDR=$(cat /users/$(whoami)/testnet/priv/wallet/Drake/drake.addr)\n",
    "\n",
    "cardano-cli query utxo \\\n",
    "--address $MINT_ADDR \\\n",
    "--testnet-magic 1"
   ]
  },
  {
   "cell_type": "code",
   "execution_count": 122,
   "metadata": {},
   "outputs": [
    {
     "name": "stdout",
     "output_type": "stream",
     "text": [
      "[jupytext] Reading how-to-create-send-burn-fungible-tokens.ipynb in format ipynb\n",
      "[jupytext] Writing how-to-create-send-burn-fungible-tokens.md\n"
     ]
    }
   ],
   "source": [
    "!jupytext --to markdown how-to-create-send-burn-fungible-tokens.ipynb"
   ]
  },
  {
   "cell_type": "code",
   "execution_count": null,
   "metadata": {},
   "outputs": [],
   "source": []
  }
 ],
 "metadata": {
  "kernelspec": {
   "display_name": "Python 3",
   "language": "python",
   "name": "python3"
  },
  "language_info": {
   "codemirror_mode": {
    "name": "ipython",
    "version": 3
   },
   "file_extension": ".py",
   "mimetype": "text/x-python",
   "name": "python",
   "nbconvert_exporter": "python",
   "pygments_lexer": "ipython3",
   "version": "3.8.0"
  }
 },
 "nbformat": 4,
 "nbformat_minor": 4
}
