{
 "cells": [
  {
   "cell_type": "markdown",
   "metadata": {},
   "source": [
    "# How to create a non fungible token"
   ]
  },
  {
   "cell_type": "markdown",
   "metadata": {},
   "source": [
    "\n",
    "Native tokens on cardano are executed directly on-chain,  \n",
    "unlike the ERC-20 tokens for example, which are executed by means of smart contracts on the Ethereum blockchain.\n",
    "\n",
    "Non fungible token property:  \n",
    "  * Are unique and finite in quantity  \n",
    "  * Not equivalent to each other  "
   ]
  },
  {
   "cell_type": "markdown",
   "metadata": {},
   "source": [
    "### 1) Defines the token architecture"
   ]
  },
  {
   "cell_type": "markdown",
   "metadata": {},
   "source": [
    "Token name: `Marsian`  \n",
    "Token supply: `1`   \n",
    "Token time constraint: `1200 slots after minting` (1 slot = 1 seconde)   \n",
    "Who can mint: `One address`  "
   ]
  },
  {
   "cell_type": "markdown",
   "metadata": {},
   "source": [
    "### 2) Create a verification key and signing key for mint and burn the token"
   ]
  },
  {
   "cell_type": "code",
   "execution_count": 7,
   "metadata": {},
   "outputs": [],
   "source": [
    "%%bash \n",
    "cardano-cli address key-gen \\\n",
    "--verification-key-file priv/NFT/nft.vkey \\\n",
    "--signing-key-file priv/NFT/nft.skey"
   ]
  },
  {
   "cell_type": "markdown",
   "metadata": {},
   "source": [
    "### 3) Create the policy script"
   ]
  },
  {
   "cell_type": "code",
   "execution_count": 57,
   "metadata": {},
   "outputs": [
    {
     "name": "stdout",
     "output_type": "stream",
     "text": [
      "{\n",
      "  \"type\": \"all\",\n",
      "  \"scripts\":\n",
      "  [\n",
      "    {\n",
      "      \"type\":\"before\",\n",
      "      \"slot\":10442040\n",
      "    },\n",
      "    {\n",
      "      \"type\": \"sig\",\n",
      "      \"keyHash\": \"13ba8318391c81b4b486ec3e718c6357c289dc73ea8c2ec59933e31d\"\n",
      "    }\n",
      "  ]\n",
      "}\n"
     ]
    }
   ],
   "source": [
    "%%bash\n",
    "NFT_VKEY=$(cardano-cli address key-hash --payment-verification-key-file priv/NFT/nft.vkey)\n",
    "SCRIPT_PATH=policy/nft.script\n",
    "# Time constraint is set to 1200 slot after the current slot \n",
    "TIME_CONSTRAINT=$(($(cardano-cli query tip --testnet-magic 1 | jq .slot) + 1200))\n",
    "\n",
    "# Monetary script\n",
    "echo \"{\" >> $SCRIPT_PATH\n",
    "echo \"  \\\"type\\\": \\\"all\\\",\" >> $SCRIPT_PATH\n",
    "echo \"  \\\"scripts\\\":\" >> $SCRIPT_PATH\n",
    "echo \"  [\" >> $SCRIPT_PATH\n",
    "echo \"    {\" >> $SCRIPT_PATH\n",
    "echo \"      \\\"type\\\":\\\"before\\\",\" >> $SCRIPT_PATH\n",
    "echo \"      \\\"slot\\\":$TIME_CONSTRAINT\" >> $SCRIPT_PATH\n",
    "echo \"    },\" >> $SCRIPT_PATH\n",
    "echo \"    {\" >> $SCRIPT_PATH\n",
    "echo \"      \\\"type\\\": \\\"sig\\\",\" >> $SCRIPT_PATH\n",
    "echo \"      \\\"keyHash\\\": \\\"$NFT_VKEY\\\"\" >> $SCRIPT_PATH\n",
    "echo \"    }\" >> $SCRIPT_PATH\n",
    "echo \"  ]\" >> $SCRIPT_PATH\n",
    "echo \"}\" >> $SCRIPT_PATH\n",
    "\n",
    "cat $SCRIPT_PATH | "
   ]
  },
  {
   "cell_type": "markdown",
   "metadata": {},
   "source": [
    "### 4) Create the policy ID"
   ]
  },
  {
   "cell_type": "code",
   "execution_count": 62,
   "metadata": {},
   "outputs": [
    {
     "name": "stdout",
     "output_type": "stream",
     "text": [
      "c8d961ee981b4c7944b9b82b48fd609108fcf63dfc6196c6536d99a0\n"
     ]
    }
   ],
   "source": [
    "%%bash \n",
    "cardano-cli transaction policyid \\\n",
    "--script-file policy/nft.script \\\n",
    "> policy/nft.policyid\n",
    "\n",
    "cat policy/nft.policyid"
   ]
  },
  {
   "cell_type": "markdown",
   "metadata": {},
   "source": [
    "### 5) Create the metadata\n",
    "\n",
    "Look into the [NFT Metadata Standard (CIP 25)](https://cips.cardano.org/cips/cip25/)."
   ]
  },
  {
   "cell_type": "code",
   "execution_count": 63,
   "metadata": {},
   "outputs": [
    {
     "name": "stdout",
     "output_type": "stream",
     "text": [
      "{\n",
      "  \"721\": {\n",
      "    \"c8d961ee981b4c7944b9b82b48fd609108fcf63dfc6196c6536d99a0\": {\n",
      "     \"Marsian\": {\n",
      "     \"descripption\": \"First man on mars generate with DALL-E-2 AI\",\n",
      "     \"image\": \"ipfs://QmbdvDECDxrZfcGoM6tzQLF68VgiKiCB2pNy8ioKZ4rTJS\"\n",
      "   }\n",
      "  }\n",
      " }\n",
      "}\n"
     ]
    }
   ],
   "source": [
    "%%bash\n",
    "NFT_ID=721\n",
    "POLICY_ID=$(cat policy/nft.policyid)\n",
    "ASSET_NAME=\"Marsian\"\n",
    "IMAGE=\"ipfs://QmbdvDECDxrZfcGoM6tzQLF68VgiKiCB2pNy8ioKZ4rTJS\"\n",
    "DESCRIPTION=\"First man on mars generate with DALL-E-2 AI\"\n",
    "NFT_METADATA_PATH=metadata/nft.metadata\n",
    "\n",
    "# Basic metadata schemme \n",
    "echo \"{\" >> $NFT_METADATA_PATH\n",
    "echo \"  \\\"$NFT_ID\\\": {\" >> $NFT_METADATA_PATH\n",
    "echo \"    \\\"$POLICY_ID\\\": {\" >> $NFT_METADATA_PATH\n",
    "echo \"     \\\"$ASSET_NAME\\\": {\" >> $NFT_METADATA_PATH\n",
    "echo \"     \\\"descripption\\\": \\\"$DESCRIPTION\\\",\" >> $NFT_METADATA_PATH\n",
    "echo \"     \\\"image\\\": \\\"$IMAGE\\\"\" >> $NFT_METADATA_PATH\n",
    "echo \"   }\" >> $NFT_METADATA_PATH\n",
    "echo \"  }\" >> $NFT_METADATA_PATH\n",
    "echo \" }\" >> $NFT_METADATA_PATH\n",
    "echo \"}\" >> $NFT_METADATA_PATH\n",
    "\n",
    "cat $NFT_METADATA_PATH"
   ]
  },
  {
   "cell_type": "markdown",
   "metadata": {},
   "source": [
    "### 5) Mint the token"
   ]
  },
  {
   "cell_type": "markdown",
   "metadata": {},
   "source": [
    "  * #### 5.1 Get the UTXO from the address you want to mint the token "
   ]
  },
  {
   "cell_type": "code",
   "execution_count": 42,
   "metadata": {},
   "outputs": [
    {
     "name": "stdout",
     "output_type": "stream",
     "text": [
      "                           TxHash                                 TxIx        Amount\n",
      "--------------------------------------------------------------------------------------\n",
      "b74048f802c6001998cc544583d9473cd7e58adb79eac49f4da000e03c342a8b     0        9998983630 lovelace + TxOutDatumNone\n",
      "ca367e87ed8750475279267363192e8e55ec3febb6b54e7c8ec2b96e296155f2     1        2000000 lovelace + 50000000 4fd78aae5e7643885c5f0c63d26641e2e05870d8544af7c6c239ff46.4d415253 + TxOutDatumNone\n"
     ]
    }
   ],
   "source": [
    "%%bash \n",
    "cardano-cli query utxo \\\n",
    "--address $(cat /users/$(whoami)/testnet/priv/wallet/Djessy/djessy.addr) \\\n",
    "--testnet-magic 1 "
   ]
  },
  {
   "cell_type": "markdown",
   "metadata": {},
   "source": [
    "  * #### 5.2 Mint the token "
   ]
  },
  {
   "cell_type": "code",
   "execution_count": 28,
   "metadata": {},
   "outputs": [
    {
     "name": "stdout",
     "output_type": "stream",
     "text": [
      "Estimated transaction fee: Lovelace 186049\n",
      "Transaction successfully submitted.\n"
     ]
    }
   ],
   "source": [
    "%%bash\n",
    "# Encoded the token name in hex format\n",
    "ASSET_NAME=$(echo -n \"Marsian\" | xxd -ps | tr -d '\\n')\n",
    "TOKEN_SUPPLY=1\n",
    "POLICY_ID=$(cat policy/nft.policyid)\n",
    "MINT_ADDR=$(cat /users/$(whoami)/testnet/priv/wallet/Djessy/djessy.addr)\n",
    "UTXO_IN=b74048f802c6001998cc544583d9473cd7e58adb79eac49f4da000e03c342a8b#0\n",
    "UTXO_IN_AMOUNT=9998983630\n",
    "MIN_ADA_VALUE=2000000\n",
    "INVALID_AFTER=\n",
    "\n",
    "# Build the transaction \n",
    "cardano-cli transaction build \\\n",
    "--tx-in $UTXO_IN \\\n",
    "--tx-out $MINT_ADDR+$MIN_ADA_VALUE+\"$TOKEN_SUPPLY $POLICY_ID.$ASSET_NAME\" \\\n",
    "--change-address $MINT_ADDR \\\n",
    "--mint \"$TOKEN_SUPPLY $POLICY_ID.$ASSET_NAME\" \\\n",
    "--minting-script-file policy/nft.script \\\n",
    "--metadata-json-file metadata/nft.metadata \\\n",
    "--invalid-hereafter 10442040 \\\n",
    "--witness-override 2 \\\n",
    "--testnet-magic 1 \\\n",
    "--out-file tx-files/nftMintTx.raw\n",
    "\n",
    "# Sign the transaction\n",
    "cardano-cli transaction sign \\\n",
    "--tx-body-file tx-files/nftMintTx.raw \\\n",
    "--signing-key-file /users/$(whoami)/testnet/priv/wallet/Djessy/djessy.addr.skey \\\n",
    "--signing-key-file priv/NFT/nft.skey \\\n",
    "--out-file tx-files/nftMintTx.signed\n",
    "\n",
    "# Submi the transaction\n",
    "cardano-cli transaction submit \\\n",
    "--tx-file tx-files/nftMintTx.signed \\\n",
    "--testnet-magic 1"
   ]
  },
  {
   "cell_type": "markdown",
   "metadata": {},
   "source": [
    "### Check the address where the NFT was minted "
   ]
  },
  {
   "cell_type": "code",
   "execution_count": 31,
   "metadata": {},
   "outputs": [
    {
     "name": "stdout",
     "output_type": "stream",
     "text": [
      "                           TxHash                                 TxIx        Amount\n",
      "--------------------------------------------------------------------------------------\n",
      "0c7863e82595e534e5e66cb96aeffe6f62db88bd9d9dc4a3335e5c6571d791b8     0        9996797581 lovelace + TxOutDatumNone\n",
      "0c7863e82595e534e5e66cb96aeffe6f62db88bd9d9dc4a3335e5c6571d791b8     1        2000000 lovelace + 1 c8d961ee981b4c7944b9b82b48fd609108fcf63dfc6196c6536d99a0.4d61727369616e + TxOutDatumNone\n",
      "ca367e87ed8750475279267363192e8e55ec3febb6b54e7c8ec2b96e296155f2     1        2000000 lovelace + 50000000 4fd78aae5e7643885c5f0c63d26641e2e05870d8544af7c6c239ff46.4d415253 + TxOutDatumNone\n"
     ]
    }
   ],
   "source": [
    "%%bash \n",
    "cardano-cli query utxo \\\n",
    "--address $(cat /users/$(whoami)/testnet/priv/wallet/Djessy/djessy.addr) \\\n",
    "--testnet-magic 1 "
   ]
  },
  {
   "cell_type": "code",
   "execution_count": 35,
   "metadata": {},
   "outputs": [
    {
     "name": "stdout",
     "output_type": "stream",
     "text": [
      "[jupytext] Reading how-to-create-a-non-fungible-token.ipynb in format ipynb\n",
      "[jupytext] Writing how-to-create-a-non-fungible-token.md\n"
     ]
    }
   ],
   "source": [
    "!jupytext --to markdown how-to-create-a-non-fungible-token.ipynb"
   ]
  },
  {
   "cell_type": "code",
   "execution_count": null,
   "metadata": {},
   "outputs": [],
   "source": []
  }
 ],
 "metadata": {
  "kernelspec": {
   "display_name": "Python 3",
   "language": "python",
   "name": "python3"
  },
  "language_info": {
   "codemirror_mode": {
    "name": "ipython",
    "version": 3
   },
   "file_extension": ".py",
   "mimetype": "text/x-python",
   "name": "python",
   "nbconvert_exporter": "python",
   "pygments_lexer": "ipython3",
   "version": "3.8.0"
  }
 },
 "nbformat": 4,
 "nbformat_minor": 4
}
